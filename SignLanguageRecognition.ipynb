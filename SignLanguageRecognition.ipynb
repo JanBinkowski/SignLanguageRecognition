{
  "nbformat": 4,
  "nbformat_minor": 0,
  "metadata": {
    "colab": {
      "name": "SignLanguageRecognition.ipynb",
      "provenance": [],
      "collapsed_sections": []
    },
    "kernelspec": {
      "name": "python3",
      "display_name": "Python 3"
    },
    "language_info": {
      "name": "python"
    }
  },
  "cells": [
    {
      "cell_type": "code",
      "metadata": {
        "colab": {
          "base_uri": "https://localhost:8080/"
        },
        "id": "6V-G6cY1UHCw",
        "outputId": "5bcfb95a-40f9-46b4-a260-3b4404f2bae1"
      },
      "source": [
        "!pip install tensorflow==2.4.1 tensorflow-gpu==2.4.1 opencv-python mediapipe sklearn matplotlib"
      ],
      "execution_count": null,
      "outputs": [
        {
          "output_type": "stream",
          "name": "stdout",
          "text": [
            "Collecting tensorflow==2.4.1\n",
            "  Downloading tensorflow-2.4.1-cp37-cp37m-manylinux2010_x86_64.whl (394.3 MB)\n",
            "\u001b[K     |████████████████████████████████| 394.3 MB 14 kB/s \n",
            "\u001b[?25hCollecting tensorflow-gpu==2.4.1\n",
            "  Downloading tensorflow_gpu-2.4.1-cp37-cp37m-manylinux2010_x86_64.whl (394.3 MB)\n",
            "\u001b[K     |████████████████████████████████| 394.3 MB 16 kB/s \n",
            "\u001b[?25hRequirement already satisfied: opencv-python in /usr/local/lib/python3.7/dist-packages (4.1.2.30)\n",
            "Collecting mediapipe\n",
            "  Downloading mediapipe-0.8.8.1-cp37-cp37m-manylinux_2_17_x86_64.manylinux2014_x86_64.whl (34.0 MB)\n",
            "\u001b[K     |████████████████████████████████| 34.0 MB 53 kB/s \n",
            "\u001b[?25hRequirement already satisfied: sklearn in /usr/local/lib/python3.7/dist-packages (0.0)\n",
            "Requirement already satisfied: matplotlib in /usr/local/lib/python3.7/dist-packages (3.2.2)\n",
            "Requirement already satisfied: typing-extensions~=3.7.4 in /usr/local/lib/python3.7/dist-packages (from tensorflow==2.4.1) (3.7.4.3)\n",
            "Collecting tensorflow-estimator<2.5.0,>=2.4.0\n",
            "  Downloading tensorflow_estimator-2.4.0-py2.py3-none-any.whl (462 kB)\n",
            "\u001b[K     |████████████████████████████████| 462 kB 68.4 MB/s \n",
            "\u001b[?25hRequirement already satisfied: six~=1.15.0 in /usr/local/lib/python3.7/dist-packages (from tensorflow==2.4.1) (1.15.0)\n",
            "Collecting h5py~=2.10.0\n",
            "  Downloading h5py-2.10.0-cp37-cp37m-manylinux1_x86_64.whl (2.9 MB)\n",
            "\u001b[K     |████████████████████████████████| 2.9 MB 44.7 MB/s \n",
            "\u001b[?25hRequirement already satisfied: numpy~=1.19.2 in /usr/local/lib/python3.7/dist-packages (from tensorflow==2.4.1) (1.19.5)\n",
            "Requirement already satisfied: opt-einsum~=3.3.0 in /usr/local/lib/python3.7/dist-packages (from tensorflow==2.4.1) (3.3.0)\n",
            "Requirement already satisfied: protobuf>=3.9.2 in /usr/local/lib/python3.7/dist-packages (from tensorflow==2.4.1) (3.17.3)\n",
            "Requirement already satisfied: wheel~=0.35 in /usr/local/lib/python3.7/dist-packages (from tensorflow==2.4.1) (0.37.0)\n",
            "Requirement already satisfied: tensorboard~=2.4 in /usr/local/lib/python3.7/dist-packages (from tensorflow==2.4.1) (2.6.0)\n",
            "Collecting grpcio~=1.32.0\n",
            "  Downloading grpcio-1.32.0-cp37-cp37m-manylinux2014_x86_64.whl (3.8 MB)\n",
            "\u001b[K     |████████████████████████████████| 3.8 MB 54.6 MB/s \n",
            "\u001b[?25hRequirement already satisfied: astunparse~=1.6.3 in /usr/local/lib/python3.7/dist-packages (from tensorflow==2.4.1) (1.6.3)\n",
            "Requirement already satisfied: absl-py~=0.10 in /usr/local/lib/python3.7/dist-packages (from tensorflow==2.4.1) (0.12.0)\n",
            "Requirement already satisfied: termcolor~=1.1.0 in /usr/local/lib/python3.7/dist-packages (from tensorflow==2.4.1) (1.1.0)\n",
            "Requirement already satisfied: wrapt~=1.12.1 in /usr/local/lib/python3.7/dist-packages (from tensorflow==2.4.1) (1.12.1)\n",
            "Requirement already satisfied: google-pasta~=0.2 in /usr/local/lib/python3.7/dist-packages (from tensorflow==2.4.1) (0.2.0)\n",
            "Collecting gast==0.3.3\n",
            "  Downloading gast-0.3.3-py2.py3-none-any.whl (9.7 kB)\n",
            "Requirement already satisfied: flatbuffers~=1.12.0 in /usr/local/lib/python3.7/dist-packages (from tensorflow==2.4.1) (1.12)\n",
            "Requirement already satisfied: keras-preprocessing~=1.1.2 in /usr/local/lib/python3.7/dist-packages (from tensorflow==2.4.1) (1.1.2)\n",
            "Requirement already satisfied: markdown>=2.6.8 in /usr/local/lib/python3.7/dist-packages (from tensorboard~=2.4->tensorflow==2.4.1) (3.3.4)\n",
            "Requirement already satisfied: requests<3,>=2.21.0 in /usr/local/lib/python3.7/dist-packages (from tensorboard~=2.4->tensorflow==2.4.1) (2.23.0)\n",
            "Requirement already satisfied: setuptools>=41.0.0 in /usr/local/lib/python3.7/dist-packages (from tensorboard~=2.4->tensorflow==2.4.1) (57.4.0)\n",
            "Requirement already satisfied: tensorboard-data-server<0.7.0,>=0.6.0 in /usr/local/lib/python3.7/dist-packages (from tensorboard~=2.4->tensorflow==2.4.1) (0.6.1)\n",
            "Requirement already satisfied: google-auth<2,>=1.6.3 in /usr/local/lib/python3.7/dist-packages (from tensorboard~=2.4->tensorflow==2.4.1) (1.35.0)\n",
            "Requirement already satisfied: werkzeug>=0.11.15 in /usr/local/lib/python3.7/dist-packages (from tensorboard~=2.4->tensorflow==2.4.1) (1.0.1)\n",
            "Requirement already satisfied: tensorboard-plugin-wit>=1.6.0 in /usr/local/lib/python3.7/dist-packages (from tensorboard~=2.4->tensorflow==2.4.1) (1.8.0)\n",
            "Requirement already satisfied: google-auth-oauthlib<0.5,>=0.4.1 in /usr/local/lib/python3.7/dist-packages (from tensorboard~=2.4->tensorflow==2.4.1) (0.4.6)\n",
            "Requirement already satisfied: cachetools<5.0,>=2.0.0 in /usr/local/lib/python3.7/dist-packages (from google-auth<2,>=1.6.3->tensorboard~=2.4->tensorflow==2.4.1) (4.2.4)\n",
            "Requirement already satisfied: rsa<5,>=3.1.4 in /usr/local/lib/python3.7/dist-packages (from google-auth<2,>=1.6.3->tensorboard~=2.4->tensorflow==2.4.1) (4.7.2)\n",
            "Requirement already satisfied: pyasn1-modules>=0.2.1 in /usr/local/lib/python3.7/dist-packages (from google-auth<2,>=1.6.3->tensorboard~=2.4->tensorflow==2.4.1) (0.2.8)\n",
            "Requirement already satisfied: requests-oauthlib>=0.7.0 in /usr/local/lib/python3.7/dist-packages (from google-auth-oauthlib<0.5,>=0.4.1->tensorboard~=2.4->tensorflow==2.4.1) (1.3.0)\n",
            "Requirement already satisfied: importlib-metadata in /usr/local/lib/python3.7/dist-packages (from markdown>=2.6.8->tensorboard~=2.4->tensorflow==2.4.1) (4.8.1)\n",
            "Requirement already satisfied: pyasn1<0.5.0,>=0.4.6 in /usr/local/lib/python3.7/dist-packages (from pyasn1-modules>=0.2.1->google-auth<2,>=1.6.3->tensorboard~=2.4->tensorflow==2.4.1) (0.4.8)\n",
            "Requirement already satisfied: urllib3!=1.25.0,!=1.25.1,<1.26,>=1.21.1 in /usr/local/lib/python3.7/dist-packages (from requests<3,>=2.21.0->tensorboard~=2.4->tensorflow==2.4.1) (1.24.3)\n",
            "Requirement already satisfied: idna<3,>=2.5 in /usr/local/lib/python3.7/dist-packages (from requests<3,>=2.21.0->tensorboard~=2.4->tensorflow==2.4.1) (2.10)\n",
            "Requirement already satisfied: certifi>=2017.4.17 in /usr/local/lib/python3.7/dist-packages (from requests<3,>=2.21.0->tensorboard~=2.4->tensorflow==2.4.1) (2021.5.30)\n",
            "Requirement already satisfied: chardet<4,>=3.0.2 in /usr/local/lib/python3.7/dist-packages (from requests<3,>=2.21.0->tensorboard~=2.4->tensorflow==2.4.1) (3.0.4)\n",
            "Requirement already satisfied: oauthlib>=3.0.0 in /usr/local/lib/python3.7/dist-packages (from requests-oauthlib>=0.7.0->google-auth-oauthlib<0.5,>=0.4.1->tensorboard~=2.4->tensorflow==2.4.1) (3.1.1)\n",
            "Requirement already satisfied: opencv-contrib-python in /usr/local/lib/python3.7/dist-packages (from mediapipe) (4.1.2.30)\n",
            "Requirement already satisfied: attrs>=19.1.0 in /usr/local/lib/python3.7/dist-packages (from mediapipe) (21.2.0)\n",
            "Requirement already satisfied: scikit-learn in /usr/local/lib/python3.7/dist-packages (from sklearn) (0.22.2.post1)\n",
            "Requirement already satisfied: kiwisolver>=1.0.1 in /usr/local/lib/python3.7/dist-packages (from matplotlib) (1.3.2)\n",
            "Requirement already satisfied: python-dateutil>=2.1 in /usr/local/lib/python3.7/dist-packages (from matplotlib) (2.8.2)\n",
            "Requirement already satisfied: cycler>=0.10 in /usr/local/lib/python3.7/dist-packages (from matplotlib) (0.10.0)\n",
            "Requirement already satisfied: pyparsing!=2.0.4,!=2.1.2,!=2.1.6,>=2.0.1 in /usr/local/lib/python3.7/dist-packages (from matplotlib) (2.4.7)\n",
            "Requirement already satisfied: zipp>=0.5 in /usr/local/lib/python3.7/dist-packages (from importlib-metadata->markdown>=2.6.8->tensorboard~=2.4->tensorflow==2.4.1) (3.6.0)\n",
            "Requirement already satisfied: joblib>=0.11 in /usr/local/lib/python3.7/dist-packages (from scikit-learn->sklearn) (1.0.1)\n",
            "Requirement already satisfied: scipy>=0.17.0 in /usr/local/lib/python3.7/dist-packages (from scikit-learn->sklearn) (1.4.1)\n",
            "Installing collected packages: grpcio, tensorflow-estimator, h5py, gast, tensorflow-gpu, tensorflow, mediapipe\n",
            "  Attempting uninstall: grpcio\n",
            "    Found existing installation: grpcio 1.41.0\n",
            "    Uninstalling grpcio-1.41.0:\n",
            "      Successfully uninstalled grpcio-1.41.0\n",
            "  Attempting uninstall: tensorflow-estimator\n",
            "    Found existing installation: tensorflow-estimator 2.6.0\n",
            "    Uninstalling tensorflow-estimator-2.6.0:\n",
            "      Successfully uninstalled tensorflow-estimator-2.6.0\n",
            "  Attempting uninstall: h5py\n",
            "    Found existing installation: h5py 3.1.0\n",
            "    Uninstalling h5py-3.1.0:\n",
            "      Successfully uninstalled h5py-3.1.0\n",
            "  Attempting uninstall: gast\n",
            "    Found existing installation: gast 0.4.0\n",
            "    Uninstalling gast-0.4.0:\n",
            "      Successfully uninstalled gast-0.4.0\n",
            "  Attempting uninstall: tensorflow\n",
            "    Found existing installation: tensorflow 2.6.0\n",
            "    Uninstalling tensorflow-2.6.0:\n",
            "      Successfully uninstalled tensorflow-2.6.0\n",
            "Successfully installed gast-0.3.3 grpcio-1.32.0 h5py-2.10.0 mediapipe-0.8.8.1 tensorflow-2.4.1 tensorflow-estimator-2.4.0 tensorflow-gpu-2.4.1\n"
          ]
        }
      ]
    },
    {
      "cell_type": "code",
      "metadata": {
        "id": "z9gPGpzlV6db"
      },
      "source": [
        "import cv2\n",
        "import numpy as np\n",
        "import os\n",
        "from matplotlib import pyplot as plt\n",
        "import time\n",
        "import mediapipe as mp"
      ],
      "execution_count": null,
      "outputs": []
    },
    {
      "cell_type": "code",
      "metadata": {
        "id": "n5W-3rDWV-BO"
      },
      "source": [
        "from sklearn.model_selection import train_test_split\n",
        "from tensorflow.keras.utils import to_categorical"
      ],
      "execution_count": null,
      "outputs": []
    },
    {
      "cell_type": "code",
      "metadata": {
        "id": "p3baHfsKWFYX"
      },
      "source": [
        "# Path to data for train\n",
        "DATA_PATH = os.path.join('/content/drive/MyDrive/MP_Data')\n",
        "\n",
        "# Actions to detect\n",
        "actions = np.array(['a', 'b', 'c'])\n",
        "\n",
        "# Thirty videos worth of data\n",
        "no_sequences = 30\n",
        "\n",
        "# frames for one sequence\n",
        "sequence_length = 30"
      ],
      "execution_count": null,
      "outputs": []
    },
    {
      "cell_type": "code",
      "metadata": {
        "id": "iIxZ55WSWPMo"
      },
      "source": [
        "sequences, labels = [], []"
      ],
      "execution_count": null,
      "outputs": []
    },
    {
      "cell_type": "code",
      "metadata": {
        "id": "L5-xzEcFpx7c"
      },
      "source": [
        "label_map = {label:num for num, label in enumerate(actions)}"
      ],
      "execution_count": null,
      "outputs": []
    },
    {
      "cell_type": "code",
      "metadata": {
        "colab": {
          "base_uri": "https://localhost:8080/"
        },
        "id": "-lFgTn5vpztV",
        "outputId": "8c14a162-04ec-4c89-ffba-882160f2ad8d"
      },
      "source": [
        "label_map"
      ],
      "execution_count": null,
      "outputs": [
        {
          "output_type": "execute_result",
          "data": {
            "text/plain": [
              "{'a': 0, 'b': 1, 'c': 2}"
            ]
          },
          "metadata": {},
          "execution_count": 11
        }
      ]
    },
    {
      "cell_type": "code",
      "metadata": {
        "id": "YbLSFZpZWQGN"
      },
      "source": [
        "for action in actions:\n",
        "    for sequence in range(no_sequences):\n",
        "        window = []\n",
        "        for frame_num in range(sequence_length):\n",
        "            res = np.load(os.path.join(DATA_PATH, action, str(sequence), \"{}.npy\".format(frame_num)))\n",
        "            window.append(res)\n",
        "        sequences.append(window)\n",
        "        labels.append(label_map[action])"
      ],
      "execution_count": null,
      "outputs": []
    },
    {
      "cell_type": "code",
      "metadata": {
        "id": "ppTwbdsqcgVA"
      },
      "source": [
        "X = np.array(sequences)"
      ],
      "execution_count": null,
      "outputs": []
    },
    {
      "cell_type": "code",
      "metadata": {
        "id": "I_bJxyRgcimj"
      },
      "source": [
        "y = to_categorical(labels).astype(int)"
      ],
      "execution_count": null,
      "outputs": []
    },
    {
      "cell_type": "code",
      "metadata": {
        "colab": {
          "base_uri": "https://localhost:8080/"
        },
        "id": "F70Jv1HU8J2i",
        "outputId": "5e235a90-d85a-4d71-8fd0-c7f6e5fe6422"
      },
      "source": [
        "to_categorical(labels).astype(int)"
      ],
      "execution_count": null,
      "outputs": [
        {
          "output_type": "execute_result",
          "data": {
            "text/plain": [
              "array([[1, 0, 0],\n",
              "       [1, 0, 0],\n",
              "       [1, 0, 0],\n",
              "       [1, 0, 0],\n",
              "       [1, 0, 0],\n",
              "       [1, 0, 0],\n",
              "       [1, 0, 0],\n",
              "       [1, 0, 0],\n",
              "       [1, 0, 0],\n",
              "       [1, 0, 0],\n",
              "       [1, 0, 0],\n",
              "       [1, 0, 0],\n",
              "       [1, 0, 0],\n",
              "       [1, 0, 0],\n",
              "       [1, 0, 0],\n",
              "       [1, 0, 0],\n",
              "       [1, 0, 0],\n",
              "       [1, 0, 0],\n",
              "       [1, 0, 0],\n",
              "       [1, 0, 0],\n",
              "       [1, 0, 0],\n",
              "       [1, 0, 0],\n",
              "       [1, 0, 0],\n",
              "       [1, 0, 0],\n",
              "       [1, 0, 0],\n",
              "       [1, 0, 0],\n",
              "       [1, 0, 0],\n",
              "       [1, 0, 0],\n",
              "       [1, 0, 0],\n",
              "       [1, 0, 0],\n",
              "       [0, 1, 0],\n",
              "       [0, 1, 0],\n",
              "       [0, 1, 0],\n",
              "       [0, 1, 0],\n",
              "       [0, 1, 0],\n",
              "       [0, 1, 0],\n",
              "       [0, 1, 0],\n",
              "       [0, 1, 0],\n",
              "       [0, 1, 0],\n",
              "       [0, 1, 0],\n",
              "       [0, 1, 0],\n",
              "       [0, 1, 0],\n",
              "       [0, 1, 0],\n",
              "       [0, 1, 0],\n",
              "       [0, 1, 0],\n",
              "       [0, 1, 0],\n",
              "       [0, 1, 0],\n",
              "       [0, 1, 0],\n",
              "       [0, 1, 0],\n",
              "       [0, 1, 0],\n",
              "       [0, 1, 0],\n",
              "       [0, 1, 0],\n",
              "       [0, 1, 0],\n",
              "       [0, 1, 0],\n",
              "       [0, 1, 0],\n",
              "       [0, 1, 0],\n",
              "       [0, 1, 0],\n",
              "       [0, 1, 0],\n",
              "       [0, 1, 0],\n",
              "       [0, 1, 0],\n",
              "       [0, 0, 1],\n",
              "       [0, 0, 1],\n",
              "       [0, 0, 1],\n",
              "       [0, 0, 1],\n",
              "       [0, 0, 1],\n",
              "       [0, 0, 1],\n",
              "       [0, 0, 1],\n",
              "       [0, 0, 1],\n",
              "       [0, 0, 1],\n",
              "       [0, 0, 1],\n",
              "       [0, 0, 1],\n",
              "       [0, 0, 1],\n",
              "       [0, 0, 1],\n",
              "       [0, 0, 1],\n",
              "       [0, 0, 1],\n",
              "       [0, 0, 1],\n",
              "       [0, 0, 1],\n",
              "       [0, 0, 1],\n",
              "       [0, 0, 1],\n",
              "       [0, 0, 1],\n",
              "       [0, 0, 1],\n",
              "       [0, 0, 1],\n",
              "       [0, 0, 1],\n",
              "       [0, 0, 1],\n",
              "       [0, 0, 1],\n",
              "       [0, 0, 1],\n",
              "       [0, 0, 1],\n",
              "       [0, 0, 1],\n",
              "       [0, 0, 1],\n",
              "       [0, 0, 1]])"
            ]
          },
          "metadata": {},
          "execution_count": 27
        }
      ]
    },
    {
      "cell_type": "code",
      "metadata": {
        "id": "Wa5bP6GXcjgr"
      },
      "source": [
        "X_train, X_test, y_train, y_test = train_test_split(X, y, test_size=0.05)"
      ],
      "execution_count": null,
      "outputs": []
    },
    {
      "cell_type": "code",
      "metadata": {
        "id": "1dAHQw7AcnZ0"
      },
      "source": [
        "from tensorflow.keras.models import Sequential\n",
        "from tensorflow.keras.layers import LSTM, Dense\n",
        "from tensorflow.keras.callbacks import TensorBoard"
      ],
      "execution_count": null,
      "outputs": []
    },
    {
      "cell_type": "code",
      "metadata": {
        "id": "h4yDbB-_cpcf"
      },
      "source": [
        "log_dir = os.path.join('/content/drive/MyDrive/Logs')\n",
        "tb_callback = TensorBoard(log_dir=log_dir)"
      ],
      "execution_count": null,
      "outputs": []
    },
    {
      "cell_type": "code",
      "metadata": {
        "id": "viykeJvIcrP-"
      },
      "source": [
        "model = Sequential()\n",
        "model.add(LSTM(64, return_sequences=True, activation='relu', input_shape=(30,126)))\n",
        "model.add(LSTM(128, return_sequences=True, activation='relu'))\n",
        "model.add(LSTM(64, return_sequences=False, activation='relu'))\n",
        "model.add(Dense(64, activation='relu'))\n",
        "model.add(Dense(32, activation='relu'))\n",
        "model.add(Dense(actions.shape[0], activation='softmax'))"
      ],
      "execution_count": null,
      "outputs": []
    },
    {
      "cell_type": "code",
      "metadata": {
        "colab": {
          "base_uri": "https://localhost:8080/"
        },
        "id": "l8GZxFEb6i7-",
        "outputId": "cd6aefb9-772a-421f-9c10-61ada403afae"
      },
      "source": [
        "actions.shape[0]"
      ],
      "execution_count": null,
      "outputs": [
        {
          "output_type": "execute_result",
          "data": {
            "text/plain": [
              "3"
            ]
          },
          "metadata": {},
          "execution_count": 17
        }
      ]
    },
    {
      "cell_type": "code",
      "metadata": {
        "id": "538QiWZ4ct3R"
      },
      "source": [
        "model.compile(optimizer='Adam', loss='categorical_crossentropy', metrics=['categorical_accuracy'])"
      ],
      "execution_count": null,
      "outputs": []
    },
    {
      "cell_type": "code",
      "metadata": {
        "colab": {
          "base_uri": "https://localhost:8080/"
        },
        "id": "u47LljrbcwkB",
        "outputId": "5fea0d8e-3c7c-4acd-a81a-f79e7a769ea1"
      },
      "source": [
        "model.fit(X_train, y_train, epochs=200, callbacks=[tb_callback])"
      ],
      "execution_count": null,
      "outputs": [
        {
          "output_type": "stream",
          "name": "stdout",
          "text": [
            "Epoch 1/200\n",
            "8/8 [==============================] - 1s 100ms/step - loss: 0.8886 - categorical_accuracy: 0.5935\n",
            "Epoch 2/200\n",
            "8/8 [==============================] - 1s 73ms/step - loss: 0.8801 - categorical_accuracy: 0.6098\n",
            "Epoch 3/200\n",
            "8/8 [==============================] - 1s 74ms/step - loss: 0.8766 - categorical_accuracy: 0.6220\n",
            "Epoch 4/200\n",
            "8/8 [==============================] - 1s 73ms/step - loss: 0.8625 - categorical_accuracy: 0.6220\n",
            "Epoch 5/200\n",
            "8/8 [==============================] - 1s 73ms/step - loss: 0.8566 - categorical_accuracy: 0.6179\n",
            "Epoch 6/200\n",
            "8/8 [==============================] - 1s 72ms/step - loss: 0.8441 - categorical_accuracy: 0.6260\n",
            "Epoch 7/200\n",
            "8/8 [==============================] - 1s 73ms/step - loss: 0.8334 - categorical_accuracy: 0.6423\n",
            "Epoch 8/200\n",
            "8/8 [==============================] - 1s 72ms/step - loss: 0.8210 - categorical_accuracy: 0.6301\n",
            "Epoch 9/200\n",
            "8/8 [==============================] - 1s 72ms/step - loss: 0.8096 - categorical_accuracy: 0.6260\n",
            "Epoch 10/200\n",
            "8/8 [==============================] - 1s 73ms/step - loss: 0.7927 - categorical_accuracy: 0.6341\n",
            "Epoch 11/200\n",
            "8/8 [==============================] - 1s 71ms/step - loss: 0.7824 - categorical_accuracy: 0.6382\n",
            "Epoch 12/200\n",
            "8/8 [==============================] - 1s 75ms/step - loss: 0.8940 - categorical_accuracy: 0.6260\n",
            "Epoch 13/200\n",
            "8/8 [==============================] - 1s 72ms/step - loss: 1.0341 - categorical_accuracy: 0.5935\n",
            "Epoch 14/200\n",
            "8/8 [==============================] - 1s 75ms/step - loss: 0.8806 - categorical_accuracy: 0.6179\n",
            "Epoch 15/200\n",
            "8/8 [==============================] - 1s 76ms/step - loss: 0.8801 - categorical_accuracy: 0.6260\n",
            "Epoch 16/200\n",
            "8/8 [==============================] - 1s 73ms/step - loss: 0.8425 - categorical_accuracy: 0.6382\n",
            "Epoch 17/200\n",
            "8/8 [==============================] - 1s 73ms/step - loss: 0.7909 - categorical_accuracy: 0.6260\n",
            "Epoch 18/200\n",
            "8/8 [==============================] - 1s 72ms/step - loss: 0.7499 - categorical_accuracy: 0.6423\n",
            "Epoch 19/200\n",
            "8/8 [==============================] - 1s 72ms/step - loss: 0.6685 - categorical_accuracy: 0.7480\n",
            "Epoch 20/200\n",
            "8/8 [==============================] - 1s 74ms/step - loss: 0.6313 - categorical_accuracy: 0.7846\n",
            "Epoch 21/200\n",
            "8/8 [==============================] - 1s 70ms/step - loss: 0.6309 - categorical_accuracy: 0.7317\n",
            "Epoch 22/200\n",
            "8/8 [==============================] - 1s 71ms/step - loss: 0.6026 - categorical_accuracy: 0.7236\n",
            "Epoch 23/200\n",
            "8/8 [==============================] - 1s 72ms/step - loss: 0.5122 - categorical_accuracy: 0.8089\n",
            "Epoch 24/200\n",
            "8/8 [==============================] - 1s 72ms/step - loss: 0.4547 - categorical_accuracy: 0.8293\n",
            "Epoch 25/200\n",
            "8/8 [==============================] - 1s 71ms/step - loss: 0.4145 - categorical_accuracy: 0.8374\n",
            "Epoch 26/200\n",
            "8/8 [==============================] - 1s 73ms/step - loss: 0.3837 - categorical_accuracy: 0.8211\n",
            "Epoch 27/200\n",
            "8/8 [==============================] - 1s 74ms/step - loss: 0.3572 - categorical_accuracy: 0.8537\n",
            "Epoch 28/200\n",
            "8/8 [==============================] - 1s 73ms/step - loss: 0.5333 - categorical_accuracy: 0.8415\n",
            "Epoch 29/200\n",
            "8/8 [==============================] - 1s 76ms/step - loss: 1.5455 - categorical_accuracy: 0.5732\n",
            "Epoch 30/200\n",
            "8/8 [==============================] - 1s 70ms/step - loss: 1.0280 - categorical_accuracy: 0.4675\n",
            "Epoch 31/200\n",
            "8/8 [==============================] - 1s 74ms/step - loss: 0.8359 - categorical_accuracy: 0.5772\n",
            "Epoch 32/200\n",
            "8/8 [==============================] - 1s 72ms/step - loss: 0.7919 - categorical_accuracy: 0.6179\n",
            "Epoch 33/200\n",
            "8/8 [==============================] - 1s 74ms/step - loss: 0.7642 - categorical_accuracy: 0.6504\n",
            "Epoch 34/200\n",
            "8/8 [==============================] - 1s 76ms/step - loss: 0.7642 - categorical_accuracy: 0.6138\n",
            "Epoch 35/200\n",
            "8/8 [==============================] - 1s 72ms/step - loss: 0.8760 - categorical_accuracy: 0.5976\n",
            "Epoch 36/200\n",
            "8/8 [==============================] - 1s 73ms/step - loss: 0.8898 - categorical_accuracy: 0.5772\n",
            "Epoch 37/200\n",
            "8/8 [==============================] - 1s 73ms/step - loss: 0.8496 - categorical_accuracy: 0.6016\n",
            "Epoch 38/200\n",
            "8/8 [==============================] - 1s 74ms/step - loss: 0.7205 - categorical_accuracy: 0.6667\n",
            "Epoch 39/200\n",
            "8/8 [==============================] - 1s 72ms/step - loss: 0.6914 - categorical_accuracy: 0.6667\n",
            "Epoch 40/200\n",
            "8/8 [==============================] - 1s 73ms/step - loss: 0.6852 - categorical_accuracy: 0.6545\n",
            "Epoch 41/200\n",
            "8/8 [==============================] - 1s 75ms/step - loss: 0.6616 - categorical_accuracy: 0.6626\n",
            "Epoch 42/200\n",
            "8/8 [==============================] - 1s 72ms/step - loss: 0.6371 - categorical_accuracy: 0.6829\n",
            "Epoch 43/200\n",
            "8/8 [==============================] - 1s 73ms/step - loss: 0.6147 - categorical_accuracy: 0.6748\n",
            "Epoch 44/200\n",
            "8/8 [==============================] - 1s 73ms/step - loss: 0.6011 - categorical_accuracy: 0.6667\n",
            "Epoch 45/200\n",
            "8/8 [==============================] - 1s 73ms/step - loss: 0.5829 - categorical_accuracy: 0.6870\n",
            "Epoch 46/200\n",
            "8/8 [==============================] - 1s 72ms/step - loss: 0.5646 - categorical_accuracy: 0.6992\n",
            "Epoch 47/200\n",
            "8/8 [==============================] - 1s 75ms/step - loss: 0.5416 - categorical_accuracy: 0.7073\n",
            "Epoch 48/200\n",
            "8/8 [==============================] - 1s 72ms/step - loss: 0.5236 - categorical_accuracy: 0.7276\n",
            "Epoch 49/200\n",
            "8/8 [==============================] - 1s 73ms/step - loss: 0.5016 - categorical_accuracy: 0.7439\n",
            "Epoch 50/200\n",
            "8/8 [==============================] - 1s 73ms/step - loss: 0.4791 - categorical_accuracy: 0.7642\n",
            "Epoch 51/200\n",
            "8/8 [==============================] - 1s 73ms/step - loss: 0.4586 - categorical_accuracy: 0.7642\n",
            "Epoch 52/200\n",
            "8/8 [==============================] - 1s 74ms/step - loss: 0.4674 - categorical_accuracy: 0.7276\n",
            "Epoch 53/200\n",
            "8/8 [==============================] - 1s 74ms/step - loss: 0.6365 - categorical_accuracy: 0.7195\n",
            "Epoch 54/200\n",
            "8/8 [==============================] - 1s 72ms/step - loss: 0.5695 - categorical_accuracy: 0.7154\n",
            "Epoch 55/200\n",
            "8/8 [==============================] - 1s 74ms/step - loss: 0.5192 - categorical_accuracy: 0.7520\n",
            "Epoch 56/200\n",
            "8/8 [==============================] - 1s 73ms/step - loss: 0.5009 - categorical_accuracy: 0.8008\n",
            "Epoch 57/200\n",
            "8/8 [==============================] - 1s 72ms/step - loss: 0.4739 - categorical_accuracy: 0.7967\n",
            "Epoch 58/200\n",
            "8/8 [==============================] - 1s 74ms/step - loss: 0.4385 - categorical_accuracy: 0.8130\n",
            "Epoch 59/200\n",
            "8/8 [==============================] - 1s 72ms/step - loss: 0.4367 - categorical_accuracy: 0.7927\n",
            "Epoch 60/200\n",
            "8/8 [==============================] - 1s 73ms/step - loss: 0.4341 - categorical_accuracy: 0.7927\n",
            "Epoch 61/200\n",
            "8/8 [==============================] - 1s 73ms/step - loss: 0.4234 - categorical_accuracy: 0.8089\n",
            "Epoch 62/200\n",
            "8/8 [==============================] - 1s 71ms/step - loss: 0.4606 - categorical_accuracy: 0.7927\n",
            "Epoch 63/200\n",
            "8/8 [==============================] - 1s 74ms/step - loss: 0.4434 - categorical_accuracy: 0.8293\n",
            "Epoch 64/200\n",
            "8/8 [==============================] - 1s 76ms/step - loss: 0.3986 - categorical_accuracy: 0.8496\n",
            "Epoch 65/200\n",
            "8/8 [==============================] - 1s 74ms/step - loss: 0.3611 - categorical_accuracy: 0.8577\n",
            "Epoch 66/200\n",
            "8/8 [==============================] - 1s 72ms/step - loss: 0.3290 - categorical_accuracy: 0.8577\n",
            "Epoch 67/200\n",
            "8/8 [==============================] - 1s 76ms/step - loss: 0.3134 - categorical_accuracy: 0.8780\n",
            "Epoch 68/200\n",
            "8/8 [==============================] - 1s 74ms/step - loss: 0.2828 - categorical_accuracy: 0.8902\n",
            "Epoch 69/200\n",
            "8/8 [==============================] - 1s 73ms/step - loss: 0.2411 - categorical_accuracy: 0.9024\n",
            "Epoch 70/200\n",
            "8/8 [==============================] - 1s 78ms/step - loss: 0.2938 - categorical_accuracy: 0.8780\n",
            "Epoch 71/200\n",
            "8/8 [==============================] - 1s 73ms/step - loss: 0.2733 - categorical_accuracy: 0.8984\n",
            "Epoch 72/200\n",
            "8/8 [==============================] - 1s 73ms/step - loss: 0.2675 - categorical_accuracy: 0.8862\n",
            "Epoch 73/200\n",
            "8/8 [==============================] - 1s 74ms/step - loss: 0.2349 - categorical_accuracy: 0.9228\n",
            "Epoch 74/200\n",
            "8/8 [==============================] - 1s 72ms/step - loss: 0.2016 - categorical_accuracy: 0.9187\n",
            "Epoch 75/200\n",
            "8/8 [==============================] - 1s 77ms/step - loss: 0.1841 - categorical_accuracy: 0.9106\n",
            "Epoch 76/200\n",
            "8/8 [==============================] - 1s 71ms/step - loss: 0.1700 - categorical_accuracy: 0.9268\n",
            "Epoch 77/200\n",
            "8/8 [==============================] - 1s 73ms/step - loss: 0.1610 - categorical_accuracy: 0.9390\n",
            "Epoch 78/200\n",
            "8/8 [==============================] - 1s 71ms/step - loss: 0.1922 - categorical_accuracy: 0.9309\n",
            "Epoch 79/200\n",
            "8/8 [==============================] - 1s 72ms/step - loss: 0.2170 - categorical_accuracy: 0.9228\n",
            "Epoch 80/200\n",
            "8/8 [==============================] - 1s 74ms/step - loss: 0.2114 - categorical_accuracy: 0.9228\n",
            "Epoch 81/200\n",
            "8/8 [==============================] - 1s 74ms/step - loss: 0.1822 - categorical_accuracy: 0.9268\n",
            "Epoch 82/200\n",
            "8/8 [==============================] - 1s 74ms/step - loss: 0.1472 - categorical_accuracy: 0.9715\n",
            "Epoch 83/200\n",
            "8/8 [==============================] - 1s 73ms/step - loss: 0.1390 - categorical_accuracy: 0.9715\n",
            "Epoch 84/200\n",
            "8/8 [==============================] - 1s 74ms/step - loss: 0.1333 - categorical_accuracy: 0.9715\n",
            "Epoch 85/200\n",
            "8/8 [==============================] - 1s 77ms/step - loss: 0.1273 - categorical_accuracy: 0.9715\n",
            "Epoch 86/200\n",
            "8/8 [==============================] - 1s 72ms/step - loss: 0.1219 - categorical_accuracy: 0.9715\n",
            "Epoch 87/200\n",
            "8/8 [==============================] - 1s 72ms/step - loss: 0.1182 - categorical_accuracy: 0.9715\n",
            "Epoch 88/200\n",
            "8/8 [==============================] - 1s 71ms/step - loss: 0.1162 - categorical_accuracy: 0.9715\n",
            "Epoch 89/200\n",
            "8/8 [==============================] - 1s 74ms/step - loss: 0.1130 - categorical_accuracy: 0.9715\n",
            "Epoch 90/200\n",
            "8/8 [==============================] - 1s 72ms/step - loss: 0.1103 - categorical_accuracy: 0.9756\n",
            "Epoch 91/200\n",
            "8/8 [==============================] - 1s 73ms/step - loss: 0.1076 - categorical_accuracy: 0.9756\n",
            "Epoch 92/200\n",
            "8/8 [==============================] - 1s 75ms/step - loss: 0.1061 - categorical_accuracy: 0.9756\n",
            "Epoch 93/200\n",
            "8/8 [==============================] - 1s 71ms/step - loss: 0.1036 - categorical_accuracy: 0.9756\n",
            "Epoch 94/200\n",
            "8/8 [==============================] - 1s 73ms/step - loss: 0.1004 - categorical_accuracy: 0.9756\n",
            "Epoch 95/200\n",
            "8/8 [==============================] - 1s 73ms/step - loss: 0.0983 - categorical_accuracy: 0.9756\n",
            "Epoch 96/200\n",
            "8/8 [==============================] - 1s 73ms/step - loss: 0.0956 - categorical_accuracy: 0.9756\n",
            "Epoch 97/200\n",
            "8/8 [==============================] - 1s 72ms/step - loss: 0.0930 - categorical_accuracy: 0.9756\n",
            "Epoch 98/200\n",
            "8/8 [==============================] - 1s 72ms/step - loss: 0.0939 - categorical_accuracy: 0.9756\n",
            "Epoch 99/200\n",
            "8/8 [==============================] - 1s 76ms/step - loss: 0.4969 - categorical_accuracy: 0.8943\n",
            "Epoch 100/200\n",
            "8/8 [==============================] - 1s 73ms/step - loss: 1.1334 - categorical_accuracy: 0.7276\n",
            "Epoch 101/200\n",
            "8/8 [==============================] - 1s 74ms/step - loss: 0.6712 - categorical_accuracy: 0.7642\n",
            "Epoch 102/200\n",
            "8/8 [==============================] - 1s 73ms/step - loss: 0.8322 - categorical_accuracy: 0.5407\n",
            "Epoch 103/200\n",
            "8/8 [==============================] - 1s 72ms/step - loss: 0.7232 - categorical_accuracy: 0.6585\n",
            "Epoch 104/200\n",
            "8/8 [==============================] - 1s 74ms/step - loss: 0.7418 - categorical_accuracy: 0.7276\n",
            "Epoch 105/200\n",
            "8/8 [==============================] - 1s 72ms/step - loss: 0.6403 - categorical_accuracy: 0.7439\n",
            "Epoch 106/200\n",
            "8/8 [==============================] - 1s 73ms/step - loss: 0.6438 - categorical_accuracy: 0.7398\n",
            "Epoch 107/200\n",
            "8/8 [==============================] - 1s 74ms/step - loss: 0.6160 - categorical_accuracy: 0.7398\n",
            "Epoch 108/200\n",
            "8/8 [==============================] - 1s 72ms/step - loss: 0.5431 - categorical_accuracy: 0.8130\n",
            "Epoch 109/200\n",
            "8/8 [==============================] - 1s 74ms/step - loss: 0.5278 - categorical_accuracy: 0.7805\n",
            "Epoch 110/200\n",
            "8/8 [==============================] - 1s 73ms/step - loss: 0.4491 - categorical_accuracy: 0.8455\n",
            "Epoch 111/200\n",
            "8/8 [==============================] - 1s 75ms/step - loss: 0.4157 - categorical_accuracy: 0.8577\n",
            "Epoch 112/200\n",
            "8/8 [==============================] - 1s 72ms/step - loss: 0.3975 - categorical_accuracy: 0.8902\n",
            "Epoch 113/200\n",
            "8/8 [==============================] - 1s 75ms/step - loss: 0.6151 - categorical_accuracy: 0.7602\n",
            "Epoch 114/200\n",
            "8/8 [==============================] - 1s 78ms/step - loss: 0.5709 - categorical_accuracy: 0.7317\n",
            "Epoch 115/200\n",
            "8/8 [==============================] - 1s 73ms/step - loss: 0.5404 - categorical_accuracy: 0.7439\n",
            "Epoch 116/200\n",
            "8/8 [==============================] - 1s 75ms/step - loss: 0.5009 - categorical_accuracy: 0.7846\n",
            "Epoch 117/200\n",
            "8/8 [==============================] - 1s 72ms/step - loss: 0.4602 - categorical_accuracy: 0.8415\n",
            "Epoch 118/200\n",
            "8/8 [==============================] - 1s 74ms/step - loss: 0.4194 - categorical_accuracy: 0.8740\n",
            "Epoch 119/200\n",
            "8/8 [==============================] - 1s 74ms/step - loss: 0.3816 - categorical_accuracy: 0.8577\n",
            "Epoch 120/200\n",
            "8/8 [==============================] - 1s 74ms/step - loss: 0.3436 - categorical_accuracy: 0.8821\n",
            "Epoch 121/200\n",
            "8/8 [==============================] - 1s 74ms/step - loss: 0.3127 - categorical_accuracy: 0.9065\n",
            "Epoch 122/200\n",
            "8/8 [==============================] - 1s 77ms/step - loss: 0.3277 - categorical_accuracy: 0.8740\n",
            "Epoch 123/200\n",
            "8/8 [==============================] - 1s 74ms/step - loss: 0.3694 - categorical_accuracy: 0.8374\n",
            "Epoch 124/200\n",
            "8/8 [==============================] - 1s 76ms/step - loss: 0.3348 - categorical_accuracy: 0.8902\n",
            "Epoch 125/200\n",
            "8/8 [==============================] - 1s 73ms/step - loss: 0.3126 - categorical_accuracy: 0.8821\n",
            "Epoch 126/200\n",
            "8/8 [==============================] - 1s 73ms/step - loss: 0.2679 - categorical_accuracy: 0.8943\n",
            "Epoch 127/200\n",
            "8/8 [==============================] - 1s 74ms/step - loss: 0.2499 - categorical_accuracy: 0.9146\n",
            "Epoch 128/200\n",
            "8/8 [==============================] - 1s 74ms/step - loss: 0.1965 - categorical_accuracy: 0.9593\n",
            "Epoch 129/200\n",
            "8/8 [==============================] - 1s 74ms/step - loss: 0.3282 - categorical_accuracy: 0.8984\n",
            "Epoch 130/200\n",
            "8/8 [==============================] - 1s 77ms/step - loss: 0.3640 - categorical_accuracy: 0.8577\n",
            "Epoch 131/200\n",
            "8/8 [==============================] - 1s 74ms/step - loss: 0.2796 - categorical_accuracy: 0.8740\n",
            "Epoch 132/200\n",
            "8/8 [==============================] - 1s 74ms/step - loss: 0.2173 - categorical_accuracy: 0.9390\n",
            "Epoch 133/200\n",
            "8/8 [==============================] - 1s 80ms/step - loss: 0.1636 - categorical_accuracy: 0.9756\n",
            "Epoch 134/200\n",
            "8/8 [==============================] - 1s 74ms/step - loss: 0.1450 - categorical_accuracy: 0.9797\n",
            "Epoch 135/200\n",
            "8/8 [==============================] - 1s 74ms/step - loss: 0.1292 - categorical_accuracy: 0.9675\n",
            "Epoch 136/200\n",
            "8/8 [==============================] - 1s 75ms/step - loss: 0.0975 - categorical_accuracy: 0.9837\n",
            "Epoch 137/200\n",
            "8/8 [==============================] - 1s 72ms/step - loss: 0.2083 - categorical_accuracy: 0.9431\n",
            "Epoch 138/200\n",
            "8/8 [==============================] - 1s 75ms/step - loss: 0.2392 - categorical_accuracy: 0.8943\n",
            "Epoch 139/200\n",
            "8/8 [==============================] - 1s 73ms/step - loss: 0.2154 - categorical_accuracy: 0.9268\n",
            "Epoch 140/200\n",
            "8/8 [==============================] - 1s 73ms/step - loss: 0.1660 - categorical_accuracy: 0.9472\n",
            "Epoch 141/200\n",
            "8/8 [==============================] - 1s 77ms/step - loss: 0.2086 - categorical_accuracy: 0.9146\n",
            "Epoch 142/200\n",
            "8/8 [==============================] - 1s 74ms/step - loss: 0.1580 - categorical_accuracy: 0.9390\n",
            "Epoch 143/200\n",
            "8/8 [==============================] - 1s 72ms/step - loss: 0.1165 - categorical_accuracy: 0.9837\n",
            "Epoch 144/200\n",
            "8/8 [==============================] - 1s 74ms/step - loss: 0.1011 - categorical_accuracy: 0.9634\n",
            "Epoch 145/200\n",
            "8/8 [==============================] - 1s 74ms/step - loss: 0.0802 - categorical_accuracy: 0.9878\n",
            "Epoch 146/200\n",
            "8/8 [==============================] - 1s 73ms/step - loss: 0.0731 - categorical_accuracy: 0.9837\n",
            "Epoch 147/200\n",
            "8/8 [==============================] - 1s 74ms/step - loss: 0.1140 - categorical_accuracy: 0.9553\n",
            "Epoch 148/200\n",
            "8/8 [==============================] - 1s 75ms/step - loss: 0.1609 - categorical_accuracy: 0.9350\n",
            "Epoch 149/200\n",
            "8/8 [==============================] - 1s 75ms/step - loss: 0.1653 - categorical_accuracy: 0.9390\n",
            "Epoch 150/200\n",
            "8/8 [==============================] - 1s 72ms/step - loss: 0.1067 - categorical_accuracy: 0.9878\n",
            "Epoch 151/200\n",
            "8/8 [==============================] - 1s 75ms/step - loss: 0.0727 - categorical_accuracy: 0.9797\n",
            "Epoch 152/200\n",
            "8/8 [==============================] - 1s 74ms/step - loss: 0.0649 - categorical_accuracy: 0.9797\n",
            "Epoch 153/200\n",
            "8/8 [==============================] - 1s 74ms/step - loss: 0.0542 - categorical_accuracy: 0.9878\n",
            "Epoch 154/200\n",
            "8/8 [==============================] - 1s 73ms/step - loss: 0.0519 - categorical_accuracy: 0.9878\n",
            "Epoch 155/200\n",
            "8/8 [==============================] - 1s 77ms/step - loss: 0.0490 - categorical_accuracy: 0.9878\n",
            "Epoch 156/200\n",
            "8/8 [==============================] - 1s 73ms/step - loss: 0.0465 - categorical_accuracy: 0.9878\n",
            "Epoch 157/200\n",
            "8/8 [==============================] - 1s 76ms/step - loss: 0.0445 - categorical_accuracy: 0.9878\n",
            "Epoch 158/200\n",
            "8/8 [==============================] - 1s 75ms/step - loss: 0.0429 - categorical_accuracy: 0.9878\n",
            "Epoch 159/200\n",
            "8/8 [==============================] - 1s 73ms/step - loss: 0.0417 - categorical_accuracy: 0.9878\n",
            "Epoch 160/200\n",
            "8/8 [==============================] - 1s 75ms/step - loss: 0.0401 - categorical_accuracy: 0.9878\n",
            "Epoch 161/200\n",
            "8/8 [==============================] - 1s 74ms/step - loss: 0.0381 - categorical_accuracy: 0.9878\n",
            "Epoch 162/200\n",
            "8/8 [==============================] - 1s 75ms/step - loss: 0.0378 - categorical_accuracy: 0.9878\n",
            "Epoch 163/200\n",
            "8/8 [==============================] - 1s 76ms/step - loss: 0.0356 - categorical_accuracy: 0.9878\n",
            "Epoch 164/200\n",
            "8/8 [==============================] - 1s 76ms/step - loss: 0.0340 - categorical_accuracy: 0.9878\n",
            "Epoch 165/200\n",
            "8/8 [==============================] - 1s 77ms/step - loss: 0.0328 - categorical_accuracy: 0.9878\n",
            "Epoch 166/200\n",
            "8/8 [==============================] - 1s 75ms/step - loss: 0.0316 - categorical_accuracy: 0.9878\n",
            "Epoch 167/200\n",
            "8/8 [==============================] - 1s 76ms/step - loss: 0.0299 - categorical_accuracy: 0.9878\n",
            "Epoch 168/200\n",
            "8/8 [==============================] - 1s 75ms/step - loss: 0.0286 - categorical_accuracy: 0.9878\n",
            "Epoch 169/200\n",
            "8/8 [==============================] - 1s 73ms/step - loss: 0.0282 - categorical_accuracy: 0.9878\n",
            "Epoch 170/200\n",
            "8/8 [==============================] - 1s 76ms/step - loss: 0.0275 - categorical_accuracy: 0.9878\n",
            "Epoch 171/200\n",
            "8/8 [==============================] - 1s 76ms/step - loss: 0.0264 - categorical_accuracy: 0.9878\n",
            "Epoch 172/200\n",
            "8/8 [==============================] - 1s 73ms/step - loss: 0.0254 - categorical_accuracy: 0.9878\n",
            "Epoch 173/200\n",
            "8/8 [==============================] - 1s 74ms/step - loss: 0.0246 - categorical_accuracy: 0.9878\n",
            "Epoch 174/200\n",
            "8/8 [==============================] - 1s 75ms/step - loss: 0.0245 - categorical_accuracy: 0.9878\n",
            "Epoch 175/200\n",
            "8/8 [==============================] - 1s 76ms/step - loss: 0.0239 - categorical_accuracy: 0.9878\n",
            "Epoch 176/200\n",
            "8/8 [==============================] - 1s 77ms/step - loss: 0.0231 - categorical_accuracy: 0.9878\n",
            "Epoch 177/200\n",
            "8/8 [==============================] - 1s 73ms/step - loss: 0.0232 - categorical_accuracy: 0.9878\n",
            "Epoch 178/200\n",
            "8/8 [==============================] - 1s 75ms/step - loss: 0.0222 - categorical_accuracy: 0.9878\n",
            "Epoch 179/200\n",
            "8/8 [==============================] - 1s 75ms/step - loss: 0.0210 - categorical_accuracy: 0.9878\n",
            "Epoch 180/200\n",
            "8/8 [==============================] - 1s 76ms/step - loss: 0.0204 - categorical_accuracy: 0.9878\n",
            "Epoch 181/200\n",
            "8/8 [==============================] - 1s 74ms/step - loss: 0.0198 - categorical_accuracy: 0.9878\n",
            "Epoch 182/200\n",
            "8/8 [==============================] - 1s 74ms/step - loss: 0.0190 - categorical_accuracy: 0.9878\n",
            "Epoch 183/200\n",
            "8/8 [==============================] - 1s 76ms/step - loss: 0.0182 - categorical_accuracy: 0.9878\n",
            "Epoch 184/200\n",
            "8/8 [==============================] - 1s 74ms/step - loss: 0.0175 - categorical_accuracy: 0.9878\n",
            "Epoch 185/200\n",
            "8/8 [==============================] - 1s 75ms/step - loss: 0.0191 - categorical_accuracy: 0.9878\n",
            "Epoch 186/200\n",
            "8/8 [==============================] - 1s 75ms/step - loss: 0.1243 - categorical_accuracy: 0.9675\n",
            "Epoch 187/200\n",
            "8/8 [==============================] - 1s 74ms/step - loss: 0.0357 - categorical_accuracy: 0.9878\n",
            "Epoch 188/200\n",
            "8/8 [==============================] - 1s 74ms/step - loss: 0.0322 - categorical_accuracy: 0.9878\n",
            "Epoch 189/200\n",
            "8/8 [==============================] - 1s 74ms/step - loss: 0.0292 - categorical_accuracy: 0.9878\n",
            "Epoch 190/200\n",
            "8/8 [==============================] - 1s 75ms/step - loss: 0.0255 - categorical_accuracy: 0.9878\n",
            "Epoch 191/200\n",
            "8/8 [==============================] - 1s 74ms/step - loss: 0.0240 - categorical_accuracy: 0.9878\n",
            "Epoch 192/200\n",
            "8/8 [==============================] - 1s 74ms/step - loss: 0.0229 - categorical_accuracy: 0.9878\n",
            "Epoch 193/200\n",
            "8/8 [==============================] - 1s 75ms/step - loss: 0.0215 - categorical_accuracy: 0.9878\n",
            "Epoch 194/200\n",
            "8/8 [==============================] - 1s 75ms/step - loss: 0.0207 - categorical_accuracy: 0.9878\n",
            "Epoch 195/200\n",
            "8/8 [==============================] - 1s 76ms/step - loss: 0.0201 - categorical_accuracy: 0.9878\n",
            "Epoch 196/200\n",
            "8/8 [==============================] - 1s 75ms/step - loss: 0.0196 - categorical_accuracy: 0.9878\n",
            "Epoch 197/200\n",
            "8/8 [==============================] - 1s 75ms/step - loss: 0.0190 - categorical_accuracy: 0.9878\n",
            "Epoch 198/200\n",
            "8/8 [==============================] - 1s 76ms/step - loss: 0.0183 - categorical_accuracy: 0.9878\n",
            "Epoch 199/200\n",
            "8/8 [==============================] - 1s 73ms/step - loss: 0.0178 - categorical_accuracy: 0.9878\n",
            "Epoch 200/200\n",
            "8/8 [==============================] - 1s 73ms/step - loss: 0.0173 - categorical_accuracy: 0.9878\n"
          ]
        },
        {
          "output_type": "execute_result",
          "data": {
            "text/plain": [
              "<tensorflow.python.keras.callbacks.History at 0x7fdb15c3dc10>"
            ]
          },
          "metadata": {},
          "execution_count": 95
        }
      ]
    },
    {
      "cell_type": "code",
      "metadata": {
        "colab": {
          "base_uri": "https://localhost:8080/"
        },
        "id": "7xfX91SfgZ33",
        "outputId": "04c0a2ed-3ef3-4992-a5fe-2d96933fe610"
      },
      "source": [
        "%cd /content/drive/MyDrive/Logs/train"
      ],
      "execution_count": null,
      "outputs": [
        {
          "output_type": "stream",
          "name": "stdout",
          "text": [
            "/content/drive/MyDrive/Logs/train\n"
          ]
        }
      ]
    },
    {
      "cell_type": "code",
      "metadata": {
        "colab": {
          "base_uri": "https://localhost:8080/"
        },
        "id": "B5GnFtZrgfhO",
        "outputId": "90136d34-f94a-4b9b-ab2c-d39e1754de58"
      },
      "source": [
        "model.summary()"
      ],
      "execution_count": null,
      "outputs": [
        {
          "output_type": "stream",
          "name": "stdout",
          "text": [
            "Model: \"sequential_1\"\n",
            "_________________________________________________________________\n",
            "Layer (type)                 Output Shape              Param #   \n",
            "=================================================================\n",
            "lstm_3 (LSTM)                (None, 30, 64)            48896     \n",
            "_________________________________________________________________\n",
            "lstm_4 (LSTM)                (None, 30, 128)           98816     \n",
            "_________________________________________________________________\n",
            "lstm_5 (LSTM)                (None, 64)                49408     \n",
            "_________________________________________________________________\n",
            "dense_3 (Dense)              (None, 64)                4160      \n",
            "_________________________________________________________________\n",
            "dense_4 (Dense)              (None, 32)                2080      \n",
            "_________________________________________________________________\n",
            "dense_5 (Dense)              (None, 3)                 99        \n",
            "=================================================================\n",
            "Total params: 203,459\n",
            "Trainable params: 203,459\n",
            "Non-trainable params: 0\n",
            "_________________________________________________________________\n"
          ]
        }
      ]
    },
    {
      "cell_type": "code",
      "metadata": {
        "id": "DH7aA5nxi2mf"
      },
      "source": [
        "model.save('/content/drive/MyDrive/Logs/train/action.h5')"
      ],
      "execution_count": null,
      "outputs": []
    },
    {
      "cell_type": "code",
      "metadata": {
        "id": "nNIhHyLIg6YY"
      },
      "source": [
        "model.load_weights('/content/drive/MyDrive/Logs/train/action.h5')"
      ],
      "execution_count": null,
      "outputs": []
    },
    {
      "cell_type": "code",
      "metadata": {
        "id": "qtpz1kZGiK1a"
      },
      "source": [
        "from sklearn.metrics import multilabel_confusion_matrix, accuracy_score"
      ],
      "execution_count": null,
      "outputs": []
    },
    {
      "cell_type": "code",
      "metadata": {
        "colab": {
          "base_uri": "https://localhost:8080/",
          "height": 231
        },
        "id": "z5SjGPaNicrF",
        "outputId": "63a4f595-b9ed-4301-842a-5944b1a8aa95"
      },
      "source": [
        "sequence = []\n",
        "sentence = []\n",
        "threshold = 0.8\n",
        "\n",
        "cap = cv2.VideoCapture(0)\n",
        "with mpHolistic.Holistic(min_detection_confidence=0.5, min_tracking_confidence=0.5) as holistic:\n",
        "    while cap.isOpened():\n",
        "        ret, frame = cap.read()\n",
        "        image, results = mediapipeDetection(frame, holistic)\n",
        "    \n",
        "            # if(results.left_hand_landmarks):\n",
        "            #     print(results.left_hand_landmarks.landmark[1])\n",
        "            # print(results.left_hand_landmarks)\n",
        "    \n",
        "        drawLandmarks(image, results)\n",
        "        keypoints = extract_keypoints(results)\n",
        "        sequence.append(keypoints)\n",
        "        sequence = sequence[-30:]\n",
        "        if len(sequence) == 30:\n",
        "          res = model.predict(np.expand_dims(sequence, axis=0))[0]\n",
        "          print(actions[np.argmax(res)])\n",
        "        cv2.imshow(\"window\", cv2.flip(image, 1))\n",
        "        cv2.waitKey(1)\n",
        "        if (cv2.getWindowProperty(\"window\", cv2.WND_PROP_VISIBLE) < 1) or (cv2.waitKey(1) & 0xFF == 27):\n",
        "            break\n",
        "    \n",
        "cap.release()\n"
      ],
      "execution_count": null,
      "outputs": [
        {
          "output_type": "error",
          "ename": "NameError",
          "evalue": "ignored",
          "traceback": [
            "\u001b[0;31m---------------------------------------------------------------------------\u001b[0m",
            "\u001b[0;31mNameError\u001b[0m                                 Traceback (most recent call last)",
            "\u001b[0;32m<ipython-input-14-f23491e4bcc4>\u001b[0m in \u001b[0;36m<module>\u001b[0;34m()\u001b[0m\n\u001b[1;32m      4\u001b[0m \u001b[0;34m\u001b[0m\u001b[0m\n\u001b[1;32m      5\u001b[0m \u001b[0mcap\u001b[0m \u001b[0;34m=\u001b[0m \u001b[0mcv2\u001b[0m\u001b[0;34m.\u001b[0m\u001b[0mVideoCapture\u001b[0m\u001b[0;34m(\u001b[0m\u001b[0;36m0\u001b[0m\u001b[0;34m)\u001b[0m\u001b[0;34m\u001b[0m\u001b[0;34m\u001b[0m\u001b[0m\n\u001b[0;32m----> 6\u001b[0;31m \u001b[0;32mwith\u001b[0m \u001b[0mmpHolistic\u001b[0m\u001b[0;34m.\u001b[0m\u001b[0mHolistic\u001b[0m\u001b[0;34m(\u001b[0m\u001b[0mmin_detection_confidence\u001b[0m\u001b[0;34m=\u001b[0m\u001b[0;36m0.5\u001b[0m\u001b[0;34m,\u001b[0m \u001b[0mmin_tracking_confidence\u001b[0m\u001b[0;34m=\u001b[0m\u001b[0;36m0.5\u001b[0m\u001b[0;34m)\u001b[0m \u001b[0;32mas\u001b[0m \u001b[0mholistic\u001b[0m\u001b[0;34m:\u001b[0m\u001b[0;34m\u001b[0m\u001b[0;34m\u001b[0m\u001b[0m\n\u001b[0m\u001b[1;32m      7\u001b[0m     \u001b[0;32mwhile\u001b[0m \u001b[0mcap\u001b[0m\u001b[0;34m.\u001b[0m\u001b[0misOpened\u001b[0m\u001b[0;34m(\u001b[0m\u001b[0;34m)\u001b[0m\u001b[0;34m:\u001b[0m\u001b[0;34m\u001b[0m\u001b[0;34m\u001b[0m\u001b[0m\n\u001b[1;32m      8\u001b[0m         \u001b[0mret\u001b[0m\u001b[0;34m,\u001b[0m \u001b[0mframe\u001b[0m \u001b[0;34m=\u001b[0m \u001b[0mcap\u001b[0m\u001b[0;34m.\u001b[0m\u001b[0mread\u001b[0m\u001b[0;34m(\u001b[0m\u001b[0;34m)\u001b[0m\u001b[0;34m\u001b[0m\u001b[0;34m\u001b[0m\u001b[0m\n",
            "\u001b[0;31mNameError\u001b[0m: name 'mpHolistic' is not defined"
          ]
        }
      ]
    }
  ]
}