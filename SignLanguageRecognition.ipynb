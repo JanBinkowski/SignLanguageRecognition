{
 "nbformat": 4,
 "nbformat_minor": 0,
 "metadata": {
  "colab": {
   "name": "SignLanguageRecognition.ipynb",
   "provenance": [],
   "collapsed_sections": []
  },
  "kernelspec": {
   "name": "python3",
   "display_name": "Python 3"
  },
  "language_info": {
   "name": "python"
  }
 },
 "cells": [
  {
   "cell_type": "code",
   "metadata": {
    "colab": {
     "base_uri": "https://localhost:8080/"
    },
    "id": "6V-G6cY1UHCw",
    "outputId": "5bcfb95a-40f9-46b4-a260-3b4404f2bae1"
   },
   "source": [
    "!pip install tensorflow==2.4.1 tensorflow-gpu==2.4.1 opencv-python mediapipe sklearn matplotlib"
   ],
   "execution_count": 26,
   "outputs": [
    {
     "name": "stdout",
     "output_type": "stream",
     "text": [
      "Requirement already satisfied: tensorflow==2.4.1 in c:\\users\\janbinkowski\\appdata\\local\\programs\\python\\python38\\lib\\site-packages (2.4.1)\n",
      "Requirement already satisfied: tensorflow-gpu==2.4.1 in c:\\users\\janbinkowski\\appdata\\local\\programs\\python\\python38\\lib\\site-packages (2.4.1)\n",
      "Requirement already satisfied: opencv-python in c:\\users\\janbinkowski\\appdata\\local\\programs\\python\\python38\\lib\\site-packages (4.5.3.56)\n",
      "Requirement already satisfied: mediapipe in c:\\users\\janbinkowski\\appdata\\local\\programs\\python\\python38\\lib\\site-packages (0.8.7.3)\n",
      "Requirement already satisfied: sklearn in c:\\users\\janbinkowski\\appdata\\local\\programs\\python\\python38\\lib\\site-packages (0.0)\n",
      "Requirement already satisfied: matplotlib in c:\\users\\janbinkowski\\appdata\\local\\programs\\python\\python38\\lib\\site-packages (3.4.3)\n",
      "Requirement already satisfied: google-pasta~=0.2 in c:\\users\\janbinkowski\\appdata\\local\\programs\\python\\python38\\lib\\site-packages (from tensorflow==2.4.1) (0.2.0)\n",
      "Requirement already satisfied: protobuf>=3.9.2 in c:\\users\\janbinkowski\\appdata\\local\\programs\\python\\python38\\lib\\site-packages (from tensorflow==2.4.1) (3.18.0)\n",
      "Requirement already satisfied: typing-extensions~=3.7.4 in c:\\users\\janbinkowski\\appdata\\local\\programs\\python\\python38\\lib\\site-packages (from tensorflow==2.4.1) (3.7.4.3)\n",
      "Requirement already satisfied: wheel~=0.35 in c:\\users\\janbinkowski\\appdata\\local\\programs\\python\\python38\\lib\\site-packages (from tensorflow==2.4.1) (0.37.0)\n",
      "Requirement already satisfied: keras-preprocessing~=1.1.2 in c:\\users\\janbinkowski\\appdata\\local\\programs\\python\\python38\\lib\\site-packages (from tensorflow==2.4.1) (1.1.2)\n",
      "Requirement already satisfied: grpcio~=1.32.0 in c:\\users\\janbinkowski\\appdata\\local\\programs\\python\\python38\\lib\\site-packages (from tensorflow==2.4.1) (1.32.0)\n",
      "Requirement already satisfied: wrapt~=1.12.1 in c:\\users\\janbinkowski\\appdata\\local\\programs\\python\\python38\\lib\\site-packages (from tensorflow==2.4.1) (1.12.1)\n",
      "Requirement already satisfied: tensorflow-estimator<2.5.0,>=2.4.0 in c:\\users\\janbinkowski\\appdata\\local\\programs\\python\\python38\\lib\\site-packages (from tensorflow==2.4.1) (2.4.0)\n",
      "Requirement already satisfied: numpy~=1.19.2 in c:\\users\\janbinkowski\\appdata\\local\\programs\\python\\python38\\lib\\site-packages (from tensorflow==2.4.1) (1.19.5)\n",
      "Requirement already satisfied: astunparse~=1.6.3 in c:\\users\\janbinkowski\\appdata\\local\\programs\\python\\python38\\lib\\site-packages (from tensorflow==2.4.1) (1.6.3)\n",
      "Requirement already satisfied: gast==0.3.3 in c:\\users\\janbinkowski\\appdata\\local\\programs\\python\\python38\\lib\\site-packages (from tensorflow==2.4.1) (0.3.3)\n",
      "Requirement already satisfied: tensorboard~=2.4 in c:\\users\\janbinkowski\\appdata\\local\\programs\\python\\python38\\lib\\site-packages (from tensorflow==2.4.1) (2.6.0)\n",
      "Requirement already satisfied: flatbuffers~=1.12.0 in c:\\users\\janbinkowski\\appdata\\local\\programs\\python\\python38\\lib\\site-packages (from tensorflow==2.4.1) (1.12)\n",
      "Requirement already satisfied: opt-einsum~=3.3.0 in c:\\users\\janbinkowski\\appdata\\local\\programs\\python\\python38\\lib\\site-packages (from tensorflow==2.4.1) (3.3.0)\n",
      "Requirement already satisfied: termcolor~=1.1.0 in c:\\users\\janbinkowski\\appdata\\local\\programs\\python\\python38\\lib\\site-packages (from tensorflow==2.4.1) (1.1.0)\n",
      "Requirement already satisfied: six~=1.15.0 in c:\\users\\janbinkowski\\appdata\\local\\programs\\python\\python38\\lib\\site-packages (from tensorflow==2.4.1) (1.15.0)\n",
      "Requirement already satisfied: h5py~=2.10.0 in c:\\users\\janbinkowski\\appdata\\local\\programs\\python\\python38\\lib\\site-packages (from tensorflow==2.4.1) (2.10.0)\n",
      "Requirement already satisfied: absl-py~=0.10 in c:\\users\\janbinkowski\\appdata\\local\\programs\\python\\python38\\lib\\site-packages (from tensorflow==2.4.1) (0.14.0)\n",
      "Requirement already satisfied: opencv-contrib-python in c:\\users\\janbinkowski\\appdata\\local\\programs\\python\\python38\\lib\\site-packages (from mediapipe) (4.5.3.56)\n",
      "Requirement already satisfied: attrs>=19.1.0 in c:\\users\\janbinkowski\\appdata\\local\\programs\\python\\python38\\lib\\site-packages (from mediapipe) (21.2.0)\n",
      "Requirement already satisfied: scikit-learn in c:\\users\\janbinkowski\\appdata\\local\\programs\\python\\python38\\lib\\site-packages (from sklearn) (0.24.2)\n",
      "Requirement already satisfied: kiwisolver>=1.0.1 in c:\\users\\janbinkowski\\appdata\\local\\programs\\python\\python38\\lib\\site-packages (from matplotlib) (1.3.2)\n",
      "Requirement already satisfied: pillow>=6.2.0 in c:\\users\\janbinkowski\\appdata\\local\\programs\\python\\python38\\lib\\site-packages (from matplotlib) (8.3.2)\n",
      "Requirement already satisfied: pyparsing>=2.2.1 in c:\\users\\janbinkowski\\appdata\\local\\programs\\python\\python38\\lib\\site-packages (from matplotlib) (2.4.7)\n",
      "Requirement already satisfied: python-dateutil>=2.7 in c:\\users\\janbinkowski\\appdata\\local\\programs\\python\\python38\\lib\\site-packages (from matplotlib) (2.8.2)\n",
      "Requirement already satisfied: cycler>=0.10 in c:\\users\\janbinkowski\\appdata\\local\\programs\\python\\python38\\lib\\site-packages (from matplotlib) (0.10.0)\n",
      "Requirement already satisfied: google-auth<2,>=1.6.3 in c:\\users\\janbinkowski\\appdata\\local\\programs\\python\\python38\\lib\\site-packages (from tensorboard~=2.4->tensorflow==2.4.1) (1.35.0)\n",
      "Requirement already satisfied: requests<3,>=2.21.0 in c:\\users\\janbinkowski\\appdata\\local\\programs\\python\\python38\\lib\\site-packages (from tensorboard~=2.4->tensorflow==2.4.1) (2.26.0)\n",
      "Requirement already satisfied: tensorboard-plugin-wit>=1.6.0 in c:\\users\\janbinkowski\\appdata\\local\\programs\\python\\python38\\lib\\site-packages (from tensorboard~=2.4->tensorflow==2.4.1) (1.8.0)\n",
      "Requirement already satisfied: setuptools>=41.0.0 in c:\\users\\janbinkowski\\appdata\\local\\programs\\python\\python38\\lib\\site-packages (from tensorboard~=2.4->tensorflow==2.4.1) (49.2.1)\n",
      "Requirement already satisfied: tensorboard-data-server<0.7.0,>=0.6.0 in c:\\users\\janbinkowski\\appdata\\local\\programs\\python\\python38\\lib\\site-packages (from tensorboard~=2.4->tensorflow==2.4.1) (0.6.1)\n",
      "Requirement already satisfied: google-auth-oauthlib<0.5,>=0.4.1 in c:\\users\\janbinkowski\\appdata\\local\\programs\\python\\python38\\lib\\site-packages (from tensorboard~=2.4->tensorflow==2.4.1) (0.4.6)\n",
      "Requirement already satisfied: markdown>=2.6.8 in c:\\users\\janbinkowski\\appdata\\local\\programs\\python\\python38\\lib\\site-packages (from tensorboard~=2.4->tensorflow==2.4.1) (3.3.4)\n",
      "Requirement already satisfied: werkzeug>=0.11.15 in c:\\users\\janbinkowski\\appdata\\local\\programs\\python\\python38\\lib\\site-packages (from tensorboard~=2.4->tensorflow==2.4.1) (2.0.1)\n",
      "Requirement already satisfied: scipy>=0.19.1 in c:\\users\\janbinkowski\\appdata\\local\\programs\\python\\python38\\lib\\site-packages (from scikit-learn->sklearn) (1.7.1)\n",
      "Requirement already satisfied: threadpoolctl>=2.0.0 in c:\\users\\janbinkowski\\appdata\\local\\programs\\python\\python38\\lib\\site-packages (from scikit-learn->sklearn) (2.2.0)\n",
      "Requirement already satisfied: joblib>=0.11 in c:\\users\\janbinkowski\\appdata\\local\\programs\\python\\python38\\lib\\site-packages (from scikit-learn->sklearn) (1.0.1)\n",
      "Requirement already satisfied: rsa<5,>=3.1.4; python_version >= \"3.6\" in c:\\users\\janbinkowski\\appdata\\local\\programs\\python\\python38\\lib\\site-packages (from google-auth<2,>=1.6.3->tensorboard~=2.4->tensorflow==2.4.1) (4.7.2)\n",
      "Requirement already satisfied: cachetools<5.0,>=2.0.0 in c:\\users\\janbinkowski\\appdata\\local\\programs\\python\\python38\\lib\\site-packages (from google-auth<2,>=1.6.3->tensorboard~=2.4->tensorflow==2.4.1) (4.2.2)\n",
      "Requirement already satisfied: pyasn1-modules>=0.2.1 in c:\\users\\janbinkowski\\appdata\\local\\programs\\python\\python38\\lib\\site-packages (from google-auth<2,>=1.6.3->tensorboard~=2.4->tensorflow==2.4.1) (0.2.8)\n",
      "Requirement already satisfied: charset-normalizer~=2.0.0; python_version >= \"3\" in c:\\users\\janbinkowski\\appdata\\local\\programs\\python\\python38\\lib\\site-packages (from requests<3,>=2.21.0->tensorboard~=2.4->tensorflow==2.4.1) (2.0.6)\n",
      "Requirement already satisfied: idna<4,>=2.5; python_version >= \"3\" in c:\\users\\janbinkowski\\appdata\\local\\programs\\python\\python38\\lib\\site-packages (from requests<3,>=2.21.0->tensorboard~=2.4->tensorflow==2.4.1) (3.2)\n",
      "Requirement already satisfied: certifi>=2017.4.17 in c:\\users\\janbinkowski\\appdata\\local\\programs\\python\\python38\\lib\\site-packages (from requests<3,>=2.21.0->tensorboard~=2.4->tensorflow==2.4.1) (2021.5.30)\n",
      "Requirement already satisfied: urllib3<1.27,>=1.21.1 in c:\\users\\janbinkowski\\appdata\\local\\programs\\python\\python38\\lib\\site-packages (from requests<3,>=2.21.0->tensorboard~=2.4->tensorflow==2.4.1) (1.26.7)\n",
      "Requirement already satisfied: requests-oauthlib>=0.7.0 in c:\\users\\janbinkowski\\appdata\\local\\programs\\python\\python38\\lib\\site-packages (from google-auth-oauthlib<0.5,>=0.4.1->tensorboard~=2.4->tensorflow==2.4.1) (1.3.0)\n",
      "Requirement already satisfied: pyasn1>=0.1.3 in c:\\users\\janbinkowski\\appdata\\local\\programs\\python\\python38\\lib\\site-packages (from rsa<5,>=3.1.4; python_version >= \"3.6\"->google-auth<2,>=1.6.3->tensorboard~=2.4->tensorflow==2.4.1) (0.4.8)\n",
      "Requirement already satisfied: oauthlib>=3.0.0 in c:\\users\\janbinkowski\\appdata\\local\\programs\\python\\python38\\lib\\site-packages (from requests-oauthlib>=0.7.0->google-auth-oauthlib<0.5,>=0.4.1->tensorboard~=2.4->tensorflow==2.4.1) (3.1.1)\n"
     ]
    },
    {
     "name": "stderr",
     "output_type": "stream",
     "text": [
      "WARNING: You are using pip version 20.2.3; however, version 21.3.1 is available.\n",
      "You should consider upgrading via the 'c:\\users\\janbinkowski\\appdata\\local\\programs\\python\\python38\\python.exe -m pip install --upgrade pip' command.\n"
     ]
    }
   ]
  },
  {
   "cell_type": "code",
   "metadata": {
    "id": "z9gPGpzlV6db"
   },
   "source": [
    "import cv2\n",
    "import numpy as np\n",
    "import os\n",
    "from matplotlib import pyplot as plt\n",
    "import time\n",
    "import mediapipe as mp"
   ],
   "execution_count": 27,
   "outputs": []
  },
  {
   "cell_type": "code",
   "metadata": {
    "id": "n5W-3rDWV-BO"
   },
   "source": [
    "from sklearn.model_selection import train_test_split\n",
    "from tensorflow.keras.utils import to_categorical"
   ],
   "execution_count": 28,
   "outputs": []
  },
  {
   "cell_type": "code",
   "metadata": {
    "id": "p3baHfsKWFYX"
   },
   "source": [
    "# Path to data for train\n",
    "DATA_PATH = os.path.join('C://Users//JanBinkowski//Desktop//SignLanguageRecognition//MP_DATA')\n",
    "\n",
    "# Actions to detect\n",
    "actions = np.array(['a', 'b', 'c'])\n",
    "\n",
    "# Thirty videos worth of data\n",
    "no_sequences = 100\n",
    "\n",
    "# frames for one sequence\n",
    "sequence_length = 30"
   ],
   "execution_count": 29,
   "outputs": []
  },
  {
   "cell_type": "code",
   "metadata": {
    "id": "iIxZ55WSWPMo"
   },
   "source": [
    "sequences, labels = [], []"
   ],
   "execution_count": 30,
   "outputs": []
  },
  {
   "cell_type": "code",
   "metadata": {
    "id": "L5-xzEcFpx7c"
   },
   "source": [
    "label_map = {label:num for num, label in enumerate(actions)}"
   ],
   "execution_count": 31,
   "outputs": []
  },
  {
   "cell_type": "code",
   "metadata": {
    "colab": {
     "base_uri": "https://localhost:8080/"
    },
    "id": "-lFgTn5vpztV",
    "outputId": "8c14a162-04ec-4c89-ffba-882160f2ad8d"
   },
   "source": [
    "label_map"
   ],
   "execution_count": 32,
   "outputs": [
    {
     "data": {
      "text/plain": "{'a': 0, 'b': 1, 'c': 2}"
     },
     "execution_count": 32,
     "metadata": {},
     "output_type": "execute_result"
    }
   ]
  },
  {
   "cell_type": "code",
   "metadata": {
    "id": "YbLSFZpZWQGN"
   },
   "source": [
    "for action in actions:\n",
    "    for sequence in range(no_sequences):\n",
    "        window = []\n",
    "        for frame_num in range(sequence_length):\n",
    "            res = np.load(os.path.join(DATA_PATH, action, str(sequence), \"{}.npy\".format(frame_num)))\n",
    "            window.append(res)\n",
    "        sequences.append(window)\n",
    "        labels.append(label_map[action])"
   ],
   "execution_count": 33,
   "outputs": []
  },
  {
   "cell_type": "code",
   "metadata": {
    "id": "ppTwbdsqcgVA"
   },
   "source": [
    "X = np.array(sequences)"
   ],
   "execution_count": 34,
   "outputs": []
  },
  {
   "cell_type": "code",
   "execution_count": 35,
   "outputs": [],
   "source": [
    "X_sliced_for_training = np.concatenate((X[:80],X[100:180],X[200:280]), axis=0)"
   ],
   "metadata": {
    "collapsed": false,
    "pycharm": {
     "name": "#%%\n"
    }
   }
  },
  {
   "cell_type": "code",
   "execution_count": 36,
   "outputs": [],
   "source": [
    "X_sliced_for_validation = np.concatenate((X[80:100],X[180:200],X[280:300]), axis=0)"
   ],
   "metadata": {
    "collapsed": false,
    "pycharm": {
     "name": "#%%\n"
    }
   }
  },
  {
   "cell_type": "code",
   "execution_count": 37,
   "outputs": [],
   "source": [
    "# X_sliced_for_testing = np.concatenate((X[90:100],X[190:200],X[290:300]), axis=0)"
   ],
   "metadata": {
    "collapsed": false,
    "pycharm": {
     "name": "#%%\n"
    }
   }
  },
  {
   "cell_type": "code",
   "metadata": {
    "id": "I_bJxyRgcimj"
   },
   "source": [
    "y = to_categorical(labels).astype(int)"
   ],
   "execution_count": 38,
   "outputs": []
  },
  {
   "cell_type": "code",
   "metadata": {
    "colab": {
     "base_uri": "https://localhost:8080/"
    },
    "id": "F70Jv1HU8J2i",
    "outputId": "5e235a90-d85a-4d71-8fd0-c7f6e5fe6422"
   },
   "source": [
    "y_sliced_for_training = np.concatenate((y[:80],y[100:180],y[200:280]), axis=0)"
   ],
   "execution_count": 39,
   "outputs": []
  },
  {
   "cell_type": "code",
   "execution_count": 40,
   "outputs": [],
   "source": [
    "y_sliced_for_validation = np.concatenate((y[80:100],y[180:200],y[280:300]), axis=0)"
   ],
   "metadata": {
    "collapsed": false,
    "pycharm": {
     "name": "#%%\n"
    }
   }
  },
  {
   "cell_type": "code",
   "execution_count": 41,
   "outputs": [],
   "source": [
    "# y_sliced_for_testing = np.concatenate((y[90:100],y[190:200],y[290:300]), axis=0)"
   ],
   "metadata": {
    "collapsed": false,
    "pycharm": {
     "name": "#%%\n"
    }
   }
  },
  {
   "cell_type": "code",
   "metadata": {
    "id": "Wa5bP6GXcjgr"
   },
   "source": [
    "# X_train, X_test, y_train, y_test = train_test_split(X_sliced_for_training, y_sliced_for_training, test_size=0.05)\n",
    "X_train, X_test, y_train, y_test = train_test_split(X, y, test_size=0.05)"
   ],
   "execution_count": 42,
   "outputs": []
  },
  {
   "cell_type": "code",
   "metadata": {
    "id": "1dAHQw7AcnZ0"
   },
   "source": [
    "from tensorflow.keras.models import Sequential\n",
    "from tensorflow.keras.layers import LSTM, Dense\n",
    "from tensorflow.keras.callbacks import TensorBoard"
   ],
   "execution_count": 43,
   "outputs": []
  },
  {
   "cell_type": "code",
   "metadata": {
    "id": "h4yDbB-_cpcf"
   },
   "source": [
    "log_dir = os.path.join('C://Users//JanBinkowski//Desktop//SignLanguageRecognition//Logs')\n",
    "tb_callback = TensorBoard(log_dir=log_dir)"
   ],
   "execution_count": 44,
   "outputs": []
  },
  {
   "cell_type": "code",
   "metadata": {
    "id": "viykeJvIcrP-"
   },
   "source": [
    "model = Sequential()\n",
    "model.add(LSTM(64, return_sequences=True, activation='relu', input_shape=(30,126)))\n",
    "model.add(LSTM(128, return_sequences=True, activation='relu'))\n",
    "model.add(LSTM(64, return_sequences=False, activation='relu'))\n",
    "model.add(Dense(64, activation='relu'))\n",
    "model.add(Dense(32, activation='relu'))\n",
    "model.add(Dense(actions.shape[0], activation='softmax'))"
   ],
   "execution_count": 45,
   "outputs": []
  },
  {
   "cell_type": "code",
   "metadata": {
    "id": "538QiWZ4ct3R"
   },
   "source": [
    "model.compile(optimizer='Adam', loss='categorical_crossentropy', metrics=['categorical_accuracy'])"
   ],
   "execution_count": 46,
   "outputs": []
  },
  {
   "cell_type": "code",
   "metadata": {
    "colab": {
     "base_uri": "https://localhost:8080/"
    },
    "id": "u47LljrbcwkB",
    "outputId": "5fea0d8e-3c7c-4acd-a81a-f79e7a769ea1"
   },
   "source": [
    "# model.fit(X_train, y_train, epochs=200, batch_size=4, validation_data=(X_sliced_for_validation, y_sliced_for_validation), callbacks=[tb_callback])\n",
    "model.fit(X_train, y_train, epochs=200, validation_split=0.2, callbacks=[tb_callback])\n"
   ],
   "execution_count": 47,
   "outputs": [
    {
     "name": "stdout",
     "output_type": "stream",
     "text": [
      "Epoch 1/200\n",
      "8/8 [==============================] - 5s 222ms/step - loss: 1.0956 - categorical_accuracy: 0.3900 - val_loss: 1.0777 - val_categorical_accuracy: 0.9123\n",
      "Epoch 2/200\n",
      "8/8 [==============================] - 0s 45ms/step - loss: 1.0673 - categorical_accuracy: 0.7487 - val_loss: 1.0024 - val_categorical_accuracy: 0.3684\n",
      "Epoch 3/200\n",
      "8/8 [==============================] - 0s 43ms/step - loss: 1.1475 - categorical_accuracy: 0.6106 - val_loss: 0.8741 - val_categorical_accuracy: 0.5439\n",
      "Epoch 4/200\n",
      "8/8 [==============================] - 0s 45ms/step - loss: 0.9117 - categorical_accuracy: 0.5434 - val_loss: 0.9186 - val_categorical_accuracy: 0.5789\n",
      "Epoch 5/200\n",
      "8/8 [==============================] - 0s 44ms/step - loss: 0.8937 - categorical_accuracy: 0.6534 - val_loss: 0.8067 - val_categorical_accuracy: 0.6667\n",
      "Epoch 6/200\n",
      "8/8 [==============================] - 0s 48ms/step - loss: 0.8031 - categorical_accuracy: 0.6880 - val_loss: 0.7225 - val_categorical_accuracy: 0.8772\n",
      "Epoch 7/200\n",
      "8/8 [==============================] - 0s 46ms/step - loss: 0.6302 - categorical_accuracy: 0.7521 - val_loss: 0.2975 - val_categorical_accuracy: 0.9123\n",
      "Epoch 8/200\n",
      "8/8 [==============================] - 0s 44ms/step - loss: 0.4575 - categorical_accuracy: 0.8532 - val_loss: 1.9307 - val_categorical_accuracy: 0.3158\n",
      "Epoch 9/200\n",
      "8/8 [==============================] - 0s 48ms/step - loss: 1.8047 - categorical_accuracy: 0.3987 - val_loss: 0.9685 - val_categorical_accuracy: 0.5263\n",
      "Epoch 10/200\n",
      "8/8 [==============================] - 0s 52ms/step - loss: 1.0161 - categorical_accuracy: 0.5036 - val_loss: 0.9255 - val_categorical_accuracy: 0.5263\n",
      "Epoch 11/200\n",
      "8/8 [==============================] - 0s 53ms/step - loss: 0.9749 - categorical_accuracy: 0.4819 - val_loss: 0.8032 - val_categorical_accuracy: 0.6316\n",
      "Epoch 12/200\n",
      "8/8 [==============================] - 0s 50ms/step - loss: 0.9033 - categorical_accuracy: 0.5068 - val_loss: 0.7277 - val_categorical_accuracy: 0.8070\n",
      "Epoch 13/200\n",
      "8/8 [==============================] - 0s 53ms/step - loss: 0.8708 - categorical_accuracy: 0.6602 - val_loss: 0.6183 - val_categorical_accuracy: 0.8596\n",
      "Epoch 14/200\n",
      "8/8 [==============================] - 0s 48ms/step - loss: 0.7527 - categorical_accuracy: 0.7031 - val_loss: 0.5852 - val_categorical_accuracy: 0.7544\n",
      "Epoch 15/200\n",
      "8/8 [==============================] - 0s 44ms/step - loss: 0.6928 - categorical_accuracy: 0.6884 - val_loss: 0.4442 - val_categorical_accuracy: 0.7895\n",
      "Epoch 16/200\n",
      "8/8 [==============================] - 0s 44ms/step - loss: 0.4823 - categorical_accuracy: 0.7999 - val_loss: 9.4534 - val_categorical_accuracy: 0.5263\n",
      "Epoch 17/200\n",
      "8/8 [==============================] - 0s 43ms/step - loss: 1.5501 - categorical_accuracy: 0.6718 - val_loss: 0.6222 - val_categorical_accuracy: 0.8421\n",
      "Epoch 18/200\n",
      "8/8 [==============================] - 0s 41ms/step - loss: 0.7726 - categorical_accuracy: 0.6739 - val_loss: 0.6203 - val_categorical_accuracy: 0.8421\n",
      "Epoch 19/200\n",
      "8/8 [==============================] - 0s 43ms/step - loss: 0.7911 - categorical_accuracy: 0.6985 - val_loss: 68.0078 - val_categorical_accuracy: 0.5088\n",
      "Epoch 20/200\n",
      "8/8 [==============================] - 0s 47ms/step - loss: 12.0796 - categorical_accuracy: 0.4968 - val_loss: 2.6484 - val_categorical_accuracy: 0.3684\n",
      "Epoch 21/200\n",
      "8/8 [==============================] - 0s 44ms/step - loss: 1.8070 - categorical_accuracy: 0.2643 - val_loss: 0.9731 - val_categorical_accuracy: 0.5614\n",
      "Epoch 22/200\n",
      "8/8 [==============================] - 0s 42ms/step - loss: 1.0145 - categorical_accuracy: 0.4129 - val_loss: 0.8977 - val_categorical_accuracy: 0.5088\n",
      "Epoch 23/200\n",
      "8/8 [==============================] - 0s 43ms/step - loss: 0.9581 - categorical_accuracy: 0.5219 - val_loss: 0.8512 - val_categorical_accuracy: 0.7018\n",
      "Epoch 24/200\n",
      "8/8 [==============================] - 0s 43ms/step - loss: 0.9017 - categorical_accuracy: 0.6082 - val_loss: 0.7856 - val_categorical_accuracy: 0.6140\n",
      "Epoch 25/200\n",
      "8/8 [==============================] - 0s 43ms/step - loss: 0.8299 - categorical_accuracy: 0.5830 - val_loss: 0.7116 - val_categorical_accuracy: 0.6491\n",
      "Epoch 26/200\n",
      "8/8 [==============================] - 0s 43ms/step - loss: 0.7070 - categorical_accuracy: 0.6479 - val_loss: 0.6958 - val_categorical_accuracy: 0.7368\n",
      "Epoch 27/200\n",
      "8/8 [==============================] - 0s 45ms/step - loss: 0.6799 - categorical_accuracy: 0.7035 - val_loss: 0.5484 - val_categorical_accuracy: 0.7895\n",
      "Epoch 28/200\n",
      "8/8 [==============================] - 0s 47ms/step - loss: 0.5200 - categorical_accuracy: 0.7650 - val_loss: 0.6088 - val_categorical_accuracy: 0.7193\n",
      "Epoch 29/200\n",
      "8/8 [==============================] - 0s 49ms/step - loss: 0.4808 - categorical_accuracy: 0.8186 - val_loss: 0.3960 - val_categorical_accuracy: 0.9474\n",
      "Epoch 30/200\n",
      "8/8 [==============================] - 0s 50ms/step - loss: 0.3301 - categorical_accuracy: 0.9058 - val_loss: 0.1912 - val_categorical_accuracy: 0.9825\n",
      "Epoch 31/200\n",
      "8/8 [==============================] - 0s 48ms/step - loss: 0.3022 - categorical_accuracy: 0.9158 - val_loss: 0.4369 - val_categorical_accuracy: 0.8421\n",
      "Epoch 32/200\n",
      "8/8 [==============================] - 0s 45ms/step - loss: 0.3984 - categorical_accuracy: 0.8153 - val_loss: 0.4906 - val_categorical_accuracy: 0.8421\n",
      "Epoch 33/200\n",
      "8/8 [==============================] - 0s 44ms/step - loss: 0.4122 - categorical_accuracy: 0.8464 - val_loss: 0.4765 - val_categorical_accuracy: 0.9825\n",
      "Epoch 34/200\n",
      "8/8 [==============================] - 0s 43ms/step - loss: 0.3956 - categorical_accuracy: 0.9311 - val_loss: 0.4166 - val_categorical_accuracy: 0.9298\n",
      "Epoch 35/200\n",
      "8/8 [==============================] - 0s 42ms/step - loss: 1.6383 - categorical_accuracy: 0.8739 - val_loss: 0.7576 - val_categorical_accuracy: 0.6316\n",
      "Epoch 36/200\n",
      "8/8 [==============================] - 0s 43ms/step - loss: 0.7874 - categorical_accuracy: 0.5745 - val_loss: 0.7449 - val_categorical_accuracy: 0.6491\n",
      "Epoch 37/200\n",
      "8/8 [==============================] - 0s 41ms/step - loss: 0.7387 - categorical_accuracy: 0.6232 - val_loss: 0.6829 - val_categorical_accuracy: 0.5789\n",
      "Epoch 38/200\n",
      "8/8 [==============================] - 0s 42ms/step - loss: 0.7030 - categorical_accuracy: 0.5778 - val_loss: 0.7833 - val_categorical_accuracy: 0.7193\n",
      "Epoch 39/200\n",
      "8/8 [==============================] - 0s 42ms/step - loss: 0.7636 - categorical_accuracy: 0.7381 - val_loss: 0.6929 - val_categorical_accuracy: 0.7544\n",
      "Epoch 40/200\n",
      "8/8 [==============================] - 0s 43ms/step - loss: 0.6492 - categorical_accuracy: 0.7179 - val_loss: 0.6102 - val_categorical_accuracy: 0.7368\n",
      "Epoch 41/200\n",
      "8/8 [==============================] - 0s 46ms/step - loss: 0.5430 - categorical_accuracy: 0.8058 - val_loss: 0.4668 - val_categorical_accuracy: 0.7719\n",
      "Epoch 42/200\n",
      "8/8 [==============================] - 0s 44ms/step - loss: 0.4904 - categorical_accuracy: 0.8053 - val_loss: 0.3901 - val_categorical_accuracy: 0.7719\n",
      "Epoch 43/200\n",
      "8/8 [==============================] - 0s 45ms/step - loss: 0.4387 - categorical_accuracy: 0.7768 - val_loss: 0.3601 - val_categorical_accuracy: 0.7719\n",
      "Epoch 44/200\n",
      "8/8 [==============================] - 0s 43ms/step - loss: 0.4262 - categorical_accuracy: 0.8241 - val_loss: 0.4192 - val_categorical_accuracy: 0.7368\n",
      "Epoch 45/200\n",
      "8/8 [==============================] - 0s 43ms/step - loss: 0.4828 - categorical_accuracy: 0.7893 - val_loss: 0.3777 - val_categorical_accuracy: 0.7719\n",
      "Epoch 46/200\n",
      "8/8 [==============================] - 0s 48ms/step - loss: 0.4056 - categorical_accuracy: 0.8167 - val_loss: 0.5324 - val_categorical_accuracy: 0.6842\n",
      "Epoch 47/200\n",
      "8/8 [==============================] - 0s 49ms/step - loss: 0.4616 - categorical_accuracy: 0.7536 - val_loss: 0.4370 - val_categorical_accuracy: 0.7368\n",
      "Epoch 48/200\n",
      "8/8 [==============================] - 0s 48ms/step - loss: 0.3738 - categorical_accuracy: 0.8087 - val_loss: 0.3875 - val_categorical_accuracy: 0.7719\n",
      "Epoch 49/200\n",
      "8/8 [==============================] - 0s 49ms/step - loss: 0.3870 - categorical_accuracy: 0.8043 - val_loss: 0.3472 - val_categorical_accuracy: 0.7719\n",
      "Epoch 50/200\n",
      "8/8 [==============================] - 0s 60ms/step - loss: 0.3667 - categorical_accuracy: 0.8112 - val_loss: 0.3282 - val_categorical_accuracy: 0.7719\n",
      "Epoch 51/200\n",
      "8/8 [==============================] - 0s 49ms/step - loss: 0.3187 - categorical_accuracy: 0.8350 - val_loss: 0.3135 - val_categorical_accuracy: 0.7719\n",
      "Epoch 52/200\n",
      "8/8 [==============================] - 0s 46ms/step - loss: 0.3209 - categorical_accuracy: 0.8055 - val_loss: 0.2929 - val_categorical_accuracy: 0.7719\n",
      "Epoch 53/200\n",
      "8/8 [==============================] - 0s 43ms/step - loss: 0.2571 - categorical_accuracy: 0.8347 - val_loss: 0.3131 - val_categorical_accuracy: 0.7544\n",
      "Epoch 54/200\n",
      "8/8 [==============================] - 0s 42ms/step - loss: 13.4027 - categorical_accuracy: 0.6630 - val_loss: 1.0068 - val_categorical_accuracy: 0.4737\n",
      "Epoch 55/200\n",
      "8/8 [==============================] - 0s 41ms/step - loss: 1.1103 - categorical_accuracy: 0.3787 - val_loss: 1.0793 - val_categorical_accuracy: 0.3158\n",
      "Epoch 56/200\n",
      "8/8 [==============================] - 0s 42ms/step - loss: 1.1179 - categorical_accuracy: 0.3485 - val_loss: 1.0396 - val_categorical_accuracy: 0.5263\n",
      "Epoch 57/200\n",
      "8/8 [==============================] - 0s 41ms/step - loss: 1.0381 - categorical_accuracy: 0.5326 - val_loss: 0.9261 - val_categorical_accuracy: 0.4737\n",
      "Epoch 58/200\n",
      "8/8 [==============================] - 0s 42ms/step - loss: 0.9836 - categorical_accuracy: 0.5313 - val_loss: 0.7426 - val_categorical_accuracy: 0.5965\n",
      "Epoch 59/200\n",
      "8/8 [==============================] - 0s 44ms/step - loss: 0.8538 - categorical_accuracy: 0.5305 - val_loss: 0.6653 - val_categorical_accuracy: 0.6140\n",
      "Epoch 60/200\n",
      "8/8 [==============================] - 0s 42ms/step - loss: 0.8917 - categorical_accuracy: 0.4995 - val_loss: 0.9710 - val_categorical_accuracy: 0.3509\n",
      "Epoch 61/200\n",
      "8/8 [==============================] - 0s 43ms/step - loss: 0.9780 - categorical_accuracy: 0.4410 - val_loss: 0.9844 - val_categorical_accuracy: 0.3158\n",
      "Epoch 62/200\n",
      "8/8 [==============================] - 0s 44ms/step - loss: 0.9549 - categorical_accuracy: 0.4111 - val_loss: 0.9330 - val_categorical_accuracy: 0.5263\n",
      "Epoch 63/200\n",
      "8/8 [==============================] - 0s 45ms/step - loss: 0.8235 - categorical_accuracy: 0.6662 - val_loss: 0.8462 - val_categorical_accuracy: 0.7895\n",
      "Epoch 64/200\n",
      "8/8 [==============================] - 0s 47ms/step - loss: 0.7225 - categorical_accuracy: 0.7926 - val_loss: 0.8460 - val_categorical_accuracy: 0.6140\n",
      "Epoch 65/200\n",
      "8/8 [==============================] - 0s 47ms/step - loss: 0.8012 - categorical_accuracy: 0.5692 - val_loss: 0.6387 - val_categorical_accuracy: 0.7719\n",
      "Epoch 66/200\n",
      "8/8 [==============================] - 0s 49ms/step - loss: 0.6651 - categorical_accuracy: 0.7327 - val_loss: 0.4214 - val_categorical_accuracy: 0.8246\n",
      "Epoch 67/200\n",
      "8/8 [==============================] - 0s 50ms/step - loss: 1.0646 - categorical_accuracy: 0.8719 - val_loss: 0.8185 - val_categorical_accuracy: 0.8772\n",
      "Epoch 68/200\n",
      "8/8 [==============================] - 0s 44ms/step - loss: 2.8623 - categorical_accuracy: 0.6319 - val_loss: 0.8427 - val_categorical_accuracy: 0.6316\n",
      "Epoch 69/200\n",
      "8/8 [==============================] - 0s 43ms/step - loss: 1.0272 - categorical_accuracy: 0.3596 - val_loss: 0.9465 - val_categorical_accuracy: 0.4737\n",
      "Epoch 70/200\n",
      "8/8 [==============================] - 0s 41ms/step - loss: 1.0128 - categorical_accuracy: 0.4046 - val_loss: 0.9598 - val_categorical_accuracy: 0.4912\n",
      "Epoch 71/200\n",
      "8/8 [==============================] - 0s 42ms/step - loss: 1.0171 - categorical_accuracy: 0.4472 - val_loss: 0.9333 - val_categorical_accuracy: 0.5789\n",
      "Epoch 72/200\n",
      "8/8 [==============================] - 0s 43ms/step - loss: 0.9910 - categorical_accuracy: 0.4951 - val_loss: 0.8687 - val_categorical_accuracy: 0.7368\n",
      "Epoch 73/200\n",
      "8/8 [==============================] - 0s 43ms/step - loss: 0.9453 - categorical_accuracy: 0.6337 - val_loss: 0.7556 - val_categorical_accuracy: 0.8947\n",
      "Epoch 74/200\n",
      "8/8 [==============================] - 0s 42ms/step - loss: 0.8662 - categorical_accuracy: 0.7350 - val_loss: 0.6751 - val_categorical_accuracy: 0.8070\n",
      "Epoch 75/200\n",
      "8/8 [==============================] - 0s 43ms/step - loss: 0.7697 - categorical_accuracy: 0.8373 - val_loss: 0.7358 - val_categorical_accuracy: 0.7368\n",
      "Epoch 76/200\n",
      "8/8 [==============================] - 0s 64ms/step - loss: 0.7837 - categorical_accuracy: 0.7632 - val_loss: 0.7251 - val_categorical_accuracy: 0.8772\n",
      "Epoch 77/200\n",
      "8/8 [==============================] - 0s 54ms/step - loss: 0.8299 - categorical_accuracy: 0.8128 - val_loss: 0.5690 - val_categorical_accuracy: 0.9298\n",
      "Epoch 78/200\n",
      "8/8 [==============================] - 0s 45ms/step - loss: 0.6712 - categorical_accuracy: 0.8910 - val_loss: 0.4733 - val_categorical_accuracy: 0.9123\n",
      "Epoch 79/200\n",
      "8/8 [==============================] - 0s 43ms/step - loss: 0.6019 - categorical_accuracy: 0.8566 - val_loss: 0.3268 - val_categorical_accuracy: 0.9298\n",
      "Epoch 80/200\n",
      "8/8 [==============================] - 0s 42ms/step - loss: 0.4804 - categorical_accuracy: 0.8205 - val_loss: 0.1637 - val_categorical_accuracy: 0.9298\n",
      "Epoch 81/200\n",
      "8/8 [==============================] - 0s 43ms/step - loss: 0.4512 - categorical_accuracy: 0.7746 - val_loss: 0.3901 - val_categorical_accuracy: 0.8596\n",
      "Epoch 82/200\n",
      "8/8 [==============================] - 0s 47ms/step - loss: 0.5162 - categorical_accuracy: 0.7729 - val_loss: 0.1732 - val_categorical_accuracy: 0.9298\n",
      "Epoch 83/200\n",
      "8/8 [==============================] - 0s 48ms/step - loss: 0.4538 - categorical_accuracy: 0.8510 - val_loss: 0.2068 - val_categorical_accuracy: 0.9123\n",
      "Epoch 84/200\n",
      "8/8 [==============================] - 0s 49ms/step - loss: 0.3732 - categorical_accuracy: 0.8169 - val_loss: 0.1727 - val_categorical_accuracy: 0.9123\n",
      "Epoch 85/200\n",
      "8/8 [==============================] - 0s 46ms/step - loss: 0.3327 - categorical_accuracy: 0.8255 - val_loss: 0.1091 - val_categorical_accuracy: 0.9474\n",
      "Epoch 86/200\n",
      "8/8 [==============================] - 0s 43ms/step - loss: 0.2422 - categorical_accuracy: 0.9103 - val_loss: 0.0861 - val_categorical_accuracy: 0.9649\n",
      "Epoch 87/200\n",
      "8/8 [==============================] - 0s 43ms/step - loss: 0.1995 - categorical_accuracy: 0.9113 - val_loss: 0.0545 - val_categorical_accuracy: 0.9825\n",
      "Epoch 88/200\n",
      "8/8 [==============================] - 0s 42ms/step - loss: 0.1353 - categorical_accuracy: 0.9492 - val_loss: 0.0560 - val_categorical_accuracy: 0.9649\n",
      "Epoch 89/200\n",
      "8/8 [==============================] - 0s 42ms/step - loss: 0.1786 - categorical_accuracy: 0.9270 - val_loss: 0.0953 - val_categorical_accuracy: 0.9474\n",
      "Epoch 90/200\n",
      "8/8 [==============================] - 0s 44ms/step - loss: 0.2656 - categorical_accuracy: 0.8829 - val_loss: 0.0527 - val_categorical_accuracy: 0.9825\n",
      "Epoch 91/200\n",
      "8/8 [==============================] - 0s 43ms/step - loss: 0.1568 - categorical_accuracy: 0.9444 - val_loss: 0.0426 - val_categorical_accuracy: 1.0000\n",
      "Epoch 92/200\n",
      "8/8 [==============================] - 0s 41ms/step - loss: 0.0986 - categorical_accuracy: 0.9904 - val_loss: 0.0243 - val_categorical_accuracy: 1.0000\n",
      "Epoch 93/200\n",
      "8/8 [==============================] - 0s 41ms/step - loss: 0.0641 - categorical_accuracy: 0.9908 - val_loss: 0.0179 - val_categorical_accuracy: 1.0000\n",
      "Epoch 94/200\n",
      "8/8 [==============================] - 0s 42ms/step - loss: 0.0389 - categorical_accuracy: 0.9889 - val_loss: 0.9222 - val_categorical_accuracy: 0.8246\n",
      "Epoch 95/200\n",
      "8/8 [==============================] - 0s 41ms/step - loss: 1.8707 - categorical_accuracy: 0.7340 - val_loss: 0.6777 - val_categorical_accuracy: 0.7018\n",
      "Epoch 96/200\n",
      "8/8 [==============================] - 0s 42ms/step - loss: 0.7889 - categorical_accuracy: 0.6565 - val_loss: 0.5459 - val_categorical_accuracy: 0.7895\n",
      "Epoch 97/200\n",
      "8/8 [==============================] - 0s 58ms/step - loss: 0.7099 - categorical_accuracy: 0.6742 - val_loss: 0.5373 - val_categorical_accuracy: 0.8947\n",
      "Epoch 98/200\n",
      "8/8 [==============================] - 0s 44ms/step - loss: 0.6885 - categorical_accuracy: 0.7670 - val_loss: 0.4429 - val_categorical_accuracy: 0.9825\n",
      "Epoch 99/200\n",
      "8/8 [==============================] - 0s 45ms/step - loss: 0.5976 - categorical_accuracy: 0.9216 - val_loss: 0.3177 - val_categorical_accuracy: 1.0000\n",
      "Epoch 100/200\n",
      "8/8 [==============================] - 0s 47ms/step - loss: 0.5016 - categorical_accuracy: 0.9461 - val_loss: 0.1911 - val_categorical_accuracy: 0.9649\n",
      "Epoch 101/200\n",
      "8/8 [==============================] - 0s 48ms/step - loss: 0.3956 - categorical_accuracy: 0.8906 - val_loss: 0.1317 - val_categorical_accuracy: 0.9649\n",
      "Epoch 102/200\n",
      "8/8 [==============================] - 0s 49ms/step - loss: 0.3373 - categorical_accuracy: 0.8980 - val_loss: 0.1018 - val_categorical_accuracy: 1.0000\n",
      "Epoch 103/200\n",
      "8/8 [==============================] - 0s 45ms/step - loss: 0.2304 - categorical_accuracy: 0.9732 - val_loss: 0.0696 - val_categorical_accuracy: 1.0000\n",
      "Epoch 104/200\n",
      "8/8 [==============================] - 0s 43ms/step - loss: 0.1663 - categorical_accuracy: 0.9827 - val_loss: 0.0382 - val_categorical_accuracy: 1.0000\n",
      "Epoch 105/200\n",
      "8/8 [==============================] - 0s 44ms/step - loss: 0.1460 - categorical_accuracy: 0.9801 - val_loss: 0.0592 - val_categorical_accuracy: 0.9825\n",
      "Epoch 106/200\n",
      "8/8 [==============================] - 0s 45ms/step - loss: 0.1283 - categorical_accuracy: 0.9752 - val_loss: 0.0368 - val_categorical_accuracy: 1.0000\n",
      "Epoch 107/200\n",
      "8/8 [==============================] - 0s 43ms/step - loss: 0.1522 - categorical_accuracy: 0.9348 - val_loss: 0.0603 - val_categorical_accuracy: 0.9825\n",
      "Epoch 108/200\n",
      "8/8 [==============================] - 0s 42ms/step - loss: 0.1439 - categorical_accuracy: 0.9714 - val_loss: 0.0363 - val_categorical_accuracy: 1.0000\n",
      "Epoch 109/200\n",
      "8/8 [==============================] - 0s 42ms/step - loss: 0.0879 - categorical_accuracy: 0.9868 - val_loss: 0.0162 - val_categorical_accuracy: 1.0000\n",
      "Epoch 110/200\n",
      "8/8 [==============================] - 0s 41ms/step - loss: 0.0531 - categorical_accuracy: 0.9980 - val_loss: 0.0094 - val_categorical_accuracy: 1.0000\n",
      "Epoch 111/200\n",
      "8/8 [==============================] - 0s 46ms/step - loss: 0.0311 - categorical_accuracy: 1.0000 - val_loss: 0.0048 - val_categorical_accuracy: 1.0000\n",
      "Epoch 112/200\n",
      "8/8 [==============================] - 0s 48ms/step - loss: 0.0186 - categorical_accuracy: 1.0000 - val_loss: 0.0015 - val_categorical_accuracy: 1.0000\n",
      "Epoch 113/200\n",
      "8/8 [==============================] - 0s 49ms/step - loss: 0.0086 - categorical_accuracy: 1.0000 - val_loss: 8.9411e-04 - val_categorical_accuracy: 1.0000\n",
      "Epoch 114/200\n",
      "8/8 [==============================] - 0s 45ms/step - loss: 0.0070 - categorical_accuracy: 1.0000 - val_loss: 0.0010 - val_categorical_accuracy: 1.0000\n",
      "Epoch 115/200\n",
      "8/8 [==============================] - 0s 48ms/step - loss: 0.0044 - categorical_accuracy: 1.0000 - val_loss: 7.5614e-04 - val_categorical_accuracy: 1.0000\n",
      "Epoch 116/200\n",
      "8/8 [==============================] - 0s 51ms/step - loss: 0.0032 - categorical_accuracy: 1.0000 - val_loss: 4.6830e-04 - val_categorical_accuracy: 1.0000\n",
      "Epoch 117/200\n",
      "8/8 [==============================] - 0s 48ms/step - loss: 0.0015 - categorical_accuracy: 1.0000 - val_loss: 2.5050e-04 - val_categorical_accuracy: 1.0000\n",
      "Epoch 118/200\n",
      "8/8 [==============================] - 0s 50ms/step - loss: 0.0014 - categorical_accuracy: 1.0000 - val_loss: 1.0115e-04 - val_categorical_accuracy: 1.0000\n",
      "Epoch 119/200\n",
      "8/8 [==============================] - 0s 49ms/step - loss: 4.1545e-04 - categorical_accuracy: 1.0000 - val_loss: 3.7619e-05 - val_categorical_accuracy: 1.0000\n",
      "Epoch 120/200\n",
      "8/8 [==============================] - 0s 48ms/step - loss: 3.9740e-04 - categorical_accuracy: 1.0000 - val_loss: 1.7988e-05 - val_categorical_accuracy: 1.0000\n",
      "Epoch 121/200\n",
      "8/8 [==============================] - 0s 43ms/step - loss: 2.8258e-04 - categorical_accuracy: 1.0000 - val_loss: 1.0863e-05 - val_categorical_accuracy: 1.0000\n",
      "Epoch 122/200\n",
      "8/8 [==============================] - 0s 45ms/step - loss: 1.3557e-04 - categorical_accuracy: 1.0000 - val_loss: 7.8922e-06 - val_categorical_accuracy: 1.0000\n",
      "Epoch 123/200\n",
      "8/8 [==============================] - 0s 43ms/step - loss: 1.1341e-04 - categorical_accuracy: 1.0000 - val_loss: 6.0876e-06 - val_categorical_accuracy: 1.0000\n",
      "Epoch 124/200\n",
      "8/8 [==============================] - 0s 41ms/step - loss: 8.4420e-05 - categorical_accuracy: 1.0000 - val_loss: 4.8455e-06 - val_categorical_accuracy: 1.0000\n",
      "Epoch 125/200\n",
      "8/8 [==============================] - 0s 42ms/step - loss: 1.1157e-04 - categorical_accuracy: 1.0000 - val_loss: 3.8710e-06 - val_categorical_accuracy: 1.0000\n",
      "Epoch 126/200\n",
      "8/8 [==============================] - 0s 41ms/step - loss: 1.0034e-04 - categorical_accuracy: 1.0000 - val_loss: 3.1035e-06 - val_categorical_accuracy: 1.0000\n",
      "Epoch 127/200\n",
      "8/8 [==============================] - 0s 43ms/step - loss: 5.7465e-05 - categorical_accuracy: 1.0000 - val_loss: 2.5598e-06 - val_categorical_accuracy: 1.0000\n",
      "Epoch 128/200\n",
      "8/8 [==============================] - 0s 42ms/step - loss: 1.0750e-04 - categorical_accuracy: 1.0000 - val_loss: 2.1352e-06 - val_categorical_accuracy: 1.0000\n",
      "Epoch 129/200\n",
      "8/8 [==============================] - 0s 41ms/step - loss: 6.9699e-05 - categorical_accuracy: 1.0000 - val_loss: 1.6856e-06 - val_categorical_accuracy: 1.0000\n",
      "Epoch 130/200\n",
      "8/8 [==============================] - 0s 42ms/step - loss: 6.0070e-05 - categorical_accuracy: 1.0000 - val_loss: 1.4117e-06 - val_categorical_accuracy: 1.0000\n",
      "Epoch 131/200\n",
      "8/8 [==============================] - 0s 42ms/step - loss: 5.1784e-05 - categorical_accuracy: 1.0000 - val_loss: 1.2381e-06 - val_categorical_accuracy: 1.0000\n",
      "Epoch 132/200\n",
      "8/8 [==============================] - 0s 41ms/step - loss: 4.8624e-05 - categorical_accuracy: 1.0000 - val_loss: 1.1105e-06 - val_categorical_accuracy: 1.0000\n",
      "Epoch 133/200\n",
      "8/8 [==============================] - 0s 41ms/step - loss: 3.3152e-05 - categorical_accuracy: 1.0000 - val_loss: 9.9758e-07 - val_categorical_accuracy: 1.0000\n",
      "Epoch 134/200\n",
      "8/8 [==============================] - 0s 43ms/step - loss: 4.3621e-05 - categorical_accuracy: 1.0000 - val_loss: 8.8465e-07 - val_categorical_accuracy: 1.0000\n",
      "Epoch 135/200\n",
      "8/8 [==============================] - 0s 45ms/step - loss: 2.7491e-05 - categorical_accuracy: 1.0000 - val_loss: 8.0308e-07 - val_categorical_accuracy: 1.0000\n",
      "Epoch 136/200\n",
      "8/8 [==============================] - 0s 48ms/step - loss: 3.1562e-05 - categorical_accuracy: 1.0000 - val_loss: 7.4871e-07 - val_categorical_accuracy: 1.0000\n",
      "Epoch 137/200\n",
      "8/8 [==============================] - 0s 63ms/step - loss: 3.3794e-05 - categorical_accuracy: 1.0000 - val_loss: 6.8806e-07 - val_categorical_accuracy: 1.0000\n",
      "Epoch 138/200\n",
      "8/8 [==============================] - 0s 60ms/step - loss: 3.0289e-05 - categorical_accuracy: 1.0000 - val_loss: 6.1486e-07 - val_categorical_accuracy: 1.0000\n",
      "Epoch 139/200\n",
      "8/8 [==============================] - 0s 51ms/step - loss: 3.5723e-05 - categorical_accuracy: 1.0000 - val_loss: 5.5630e-07 - val_categorical_accuracy: 1.0000\n",
      "Epoch 140/200\n",
      "8/8 [==============================] - 0s 46ms/step - loss: 2.7290e-05 - categorical_accuracy: 1.0000 - val_loss: 5.0402e-07 - val_categorical_accuracy: 1.0000\n",
      "Epoch 141/200\n",
      "8/8 [==============================] - 0s 43ms/step - loss: 2.4543e-05 - categorical_accuracy: 1.0000 - val_loss: 4.5801e-07 - val_categorical_accuracy: 1.0000\n",
      "Epoch 142/200\n",
      "8/8 [==============================] - 0s 43ms/step - loss: 2.4639e-05 - categorical_accuracy: 1.0000 - val_loss: 4.1827e-07 - val_categorical_accuracy: 1.0000\n",
      "Epoch 143/200\n",
      "8/8 [==============================] - 0s 41ms/step - loss: 3.1635e-05 - categorical_accuracy: 1.0000 - val_loss: 3.8272e-07 - val_categorical_accuracy: 1.0000\n",
      "Epoch 144/200\n",
      "8/8 [==============================] - 0s 41ms/step - loss: 2.6663e-05 - categorical_accuracy: 1.0000 - val_loss: 3.5553e-07 - val_categorical_accuracy: 1.0000\n",
      "Epoch 145/200\n",
      "8/8 [==============================] - 0s 42ms/step - loss: 1.0770e-05 - categorical_accuracy: 1.0000 - val_loss: 3.3462e-07 - val_categorical_accuracy: 1.0000\n",
      "Epoch 146/200\n",
      "8/8 [==============================] - 0s 41ms/step - loss: 1.9411e-05 - categorical_accuracy: 1.0000 - val_loss: 3.1162e-07 - val_categorical_accuracy: 1.0000\n",
      "Epoch 147/200\n",
      "8/8 [==============================] - 0s 42ms/step - loss: 1.4069e-05 - categorical_accuracy: 1.0000 - val_loss: 2.9488e-07 - val_categorical_accuracy: 1.0000\n",
      "Epoch 148/200\n",
      "8/8 [==============================] - 0s 42ms/step - loss: 1.9829e-05 - categorical_accuracy: 1.0000 - val_loss: 2.6770e-07 - val_categorical_accuracy: 1.0000\n",
      "Epoch 149/200\n",
      "8/8 [==============================] - 0s 42ms/step - loss: 2.0283e-05 - categorical_accuracy: 1.0000 - val_loss: 2.3423e-07 - val_categorical_accuracy: 1.0000\n",
      "Epoch 150/200\n",
      "8/8 [==============================] - 0s 43ms/step - loss: 1.5641e-05 - categorical_accuracy: 1.0000 - val_loss: 2.1541e-07 - val_categorical_accuracy: 1.0000\n",
      "Epoch 151/200\n",
      "8/8 [==============================] - 0s 42ms/step - loss: 1.5123e-05 - categorical_accuracy: 1.0000 - val_loss: 2.0077e-07 - val_categorical_accuracy: 1.0000\n",
      "Epoch 152/200\n",
      "8/8 [==============================] - 0s 41ms/step - loss: 1.4418e-05 - categorical_accuracy: 1.0000 - val_loss: 1.8822e-07 - val_categorical_accuracy: 1.0000\n",
      "Epoch 153/200\n",
      "8/8 [==============================] - 0s 44ms/step - loss: 1.4552e-05 - categorical_accuracy: 1.0000 - val_loss: 1.7568e-07 - val_categorical_accuracy: 1.0000\n",
      "Epoch 154/200\n",
      "8/8 [==============================] - 0s 48ms/step - loss: 7.9775e-06 - categorical_accuracy: 1.0000 - val_loss: 1.7358e-07 - val_categorical_accuracy: 1.0000\n",
      "Epoch 155/200\n",
      "8/8 [==============================] - 0s 48ms/step - loss: 9.0053e-06 - categorical_accuracy: 1.0000 - val_loss: 1.6522e-07 - val_categorical_accuracy: 1.0000\n",
      "Epoch 156/200\n",
      "8/8 [==============================] - 0s 48ms/step - loss: 9.5101e-06 - categorical_accuracy: 1.0000 - val_loss: 1.5476e-07 - val_categorical_accuracy: 1.0000\n",
      "Epoch 157/200\n",
      "8/8 [==============================] - 0s 49ms/step - loss: 1.2053e-05 - categorical_accuracy: 1.0000 - val_loss: 1.4431e-07 - val_categorical_accuracy: 1.0000\n",
      "Epoch 158/200\n",
      "8/8 [==============================] - 0s 43ms/step - loss: 1.3100e-05 - categorical_accuracy: 1.0000 - val_loss: 1.3385e-07 - val_categorical_accuracy: 1.0000\n",
      "Epoch 159/200\n",
      "8/8 [==============================] - 0s 42ms/step - loss: 9.1416e-06 - categorical_accuracy: 1.0000 - val_loss: 1.2757e-07 - val_categorical_accuracy: 1.0000\n",
      "Epoch 160/200\n",
      "8/8 [==============================] - 0s 42ms/step - loss: 5.9090e-06 - categorical_accuracy: 1.0000 - val_loss: 1.1712e-07 - val_categorical_accuracy: 1.0000\n",
      "Epoch 161/200\n",
      "8/8 [==============================] - 0s 43ms/step - loss: 8.5963e-06 - categorical_accuracy: 1.0000 - val_loss: 1.1084e-07 - val_categorical_accuracy: 1.0000\n",
      "Epoch 162/200\n",
      "8/8 [==============================] - 0s 41ms/step - loss: 1.0796e-05 - categorical_accuracy: 1.0000 - val_loss: 1.0666e-07 - val_categorical_accuracy: 1.0000\n",
      "Epoch 163/200\n",
      "8/8 [==============================] - 0s 42ms/step - loss: 1.2226e-05 - categorical_accuracy: 1.0000 - val_loss: 9.8295e-08 - val_categorical_accuracy: 1.0000\n",
      "Epoch 164/200\n",
      "8/8 [==============================] - 0s 42ms/step - loss: 8.8369e-06 - categorical_accuracy: 1.0000 - val_loss: 9.4112e-08 - val_categorical_accuracy: 1.0000\n",
      "Epoch 165/200\n",
      "8/8 [==============================] - 0s 43ms/step - loss: 6.9096e-06 - categorical_accuracy: 1.0000 - val_loss: 8.9930e-08 - val_categorical_accuracy: 1.0000\n",
      "Epoch 166/200\n",
      "8/8 [==============================] - 0s 47ms/step - loss: 8.8514e-06 - categorical_accuracy: 1.0000 - val_loss: 8.5747e-08 - val_categorical_accuracy: 1.0000\n",
      "Epoch 167/200\n",
      "8/8 [==============================] - 0s 51ms/step - loss: 7.6400e-06 - categorical_accuracy: 1.0000 - val_loss: 8.1564e-08 - val_categorical_accuracy: 1.0000\n",
      "Epoch 168/200\n",
      "8/8 [==============================] - 0s 53ms/step - loss: 4.9986e-06 - categorical_accuracy: 1.0000 - val_loss: 7.5290e-08 - val_categorical_accuracy: 1.0000\n",
      "Epoch 169/200\n",
      "8/8 [==============================] - 0s 49ms/step - loss: 7.9693e-06 - categorical_accuracy: 1.0000 - val_loss: 7.1107e-08 - val_categorical_accuracy: 1.0000\n",
      "Epoch 170/200\n",
      "8/8 [==============================] - 0s 45ms/step - loss: 9.5468e-06 - categorical_accuracy: 1.0000 - val_loss: 6.6924e-08 - val_categorical_accuracy: 1.0000\n",
      "Epoch 171/200\n",
      "8/8 [==============================] - 0s 51ms/step - loss: 6.9919e-06 - categorical_accuracy: 1.0000 - val_loss: 6.2742e-08 - val_categorical_accuracy: 1.0000\n",
      "Epoch 172/200\n",
      "8/8 [==============================] - 0s 49ms/step - loss: 6.3048e-06 - categorical_accuracy: 1.0000 - val_loss: 6.0650e-08 - val_categorical_accuracy: 1.0000\n",
      "Epoch 173/200\n",
      "8/8 [==============================] - 0s 49ms/step - loss: 9.1032e-06 - categorical_accuracy: 1.0000 - val_loss: 5.8559e-08 - val_categorical_accuracy: 1.0000\n",
      "Epoch 174/200\n",
      "8/8 [==============================] - 0s 48ms/step - loss: 7.2588e-06 - categorical_accuracy: 1.0000 - val_loss: 5.8559e-08 - val_categorical_accuracy: 1.0000\n",
      "Epoch 175/200\n",
      "8/8 [==============================] - 0s 55ms/step - loss: 5.9680e-06 - categorical_accuracy: 1.0000 - val_loss: 5.4376e-08 - val_categorical_accuracy: 1.0000\n",
      "Epoch 176/200\n",
      "8/8 [==============================] - 0s 57ms/step - loss: 5.3424e-06 - categorical_accuracy: 1.0000 - val_loss: 5.2285e-08 - val_categorical_accuracy: 1.0000\n",
      "Epoch 177/200\n",
      "8/8 [==============================] - 0s 43ms/step - loss: 5.8211e-06 - categorical_accuracy: 1.0000 - val_loss: 5.0193e-08 - val_categorical_accuracy: 1.0000\n",
      "Epoch 178/200\n",
      "8/8 [==============================] - 0s 43ms/step - loss: 6.7656e-06 - categorical_accuracy: 1.0000 - val_loss: 4.8102e-08 - val_categorical_accuracy: 1.0000\n",
      "Epoch 179/200\n",
      "8/8 [==============================] - 0s 43ms/step - loss: 5.8925e-06 - categorical_accuracy: 1.0000 - val_loss: 4.6011e-08 - val_categorical_accuracy: 1.0000\n",
      "Epoch 180/200\n",
      "8/8 [==============================] - 0s 42ms/step - loss: 9.4548e-06 - categorical_accuracy: 1.0000 - val_loss: 4.3919e-08 - val_categorical_accuracy: 1.0000\n",
      "Epoch 181/200\n",
      "8/8 [==============================] - 0s 43ms/step - loss: 5.6140e-06 - categorical_accuracy: 1.0000 - val_loss: 4.3919e-08 - val_categorical_accuracy: 1.0000\n",
      "Epoch 182/200\n",
      "8/8 [==============================] - 0s 43ms/step - loss: 5.9728e-06 - categorical_accuracy: 1.0000 - val_loss: 4.1828e-08 - val_categorical_accuracy: 1.0000\n",
      "Epoch 183/200\n",
      "8/8 [==============================] - 0s 42ms/step - loss: 8.2860e-06 - categorical_accuracy: 1.0000 - val_loss: 3.9736e-08 - val_categorical_accuracy: 1.0000\n",
      "Epoch 184/200\n",
      "8/8 [==============================] - 0s 42ms/step - loss: 5.6188e-06 - categorical_accuracy: 1.0000 - val_loss: 3.9736e-08 - val_categorical_accuracy: 1.0000\n",
      "Epoch 185/200\n",
      "8/8 [==============================] - 0s 42ms/step - loss: 4.9911e-06 - categorical_accuracy: 1.0000 - val_loss: 3.7645e-08 - val_categorical_accuracy: 1.0000\n",
      "Epoch 186/200\n",
      "8/8 [==============================] - 0s 41ms/step - loss: 6.3315e-06 - categorical_accuracy: 1.0000 - val_loss: 3.7645e-08 - val_categorical_accuracy: 1.0000\n",
      "Epoch 187/200\n",
      "8/8 [==============================] - 0s 43ms/step - loss: 5.1600e-06 - categorical_accuracy: 1.0000 - val_loss: 3.5554e-08 - val_categorical_accuracy: 1.0000\n",
      "Epoch 188/200\n",
      "8/8 [==============================] - 0s 42ms/step - loss: 6.0322e-06 - categorical_accuracy: 1.0000 - val_loss: 3.5554e-08 - val_categorical_accuracy: 1.0000\n",
      "Epoch 189/200\n",
      "8/8 [==============================] - 0s 47ms/step - loss: 4.8174e-06 - categorical_accuracy: 1.0000 - val_loss: 3.3462e-08 - val_categorical_accuracy: 1.0000\n",
      "Epoch 190/200\n",
      "8/8 [==============================] - 0s 48ms/step - loss: 3.4008e-06 - categorical_accuracy: 1.0000 - val_loss: 3.3462e-08 - val_categorical_accuracy: 1.0000\n",
      "Epoch 191/200\n",
      "8/8 [==============================] - 0s 48ms/step - loss: 2.3583e-06 - categorical_accuracy: 1.0000 - val_loss: 3.3462e-08 - val_categorical_accuracy: 1.0000\n",
      "Epoch 192/200\n",
      "8/8 [==============================] - 0s 48ms/step - loss: 3.7682e-06 - categorical_accuracy: 1.0000 - val_loss: 3.3462e-08 - val_categorical_accuracy: 1.0000\n",
      "Epoch 193/200\n",
      "8/8 [==============================] - 0s 43ms/step - loss: 7.3638e-06 - categorical_accuracy: 1.0000 - val_loss: 3.3462e-08 - val_categorical_accuracy: 1.0000\n",
      "Epoch 194/200\n",
      "8/8 [==============================] - 0s 43ms/step - loss: 3.1296e-06 - categorical_accuracy: 1.0000 - val_loss: 3.3462e-08 - val_categorical_accuracy: 1.0000\n",
      "Epoch 195/200\n",
      "8/8 [==============================] - 0s 43ms/step - loss: 3.7202e-06 - categorical_accuracy: 1.0000 - val_loss: 3.1371e-08 - val_categorical_accuracy: 1.0000\n",
      "Epoch 196/200\n",
      "8/8 [==============================] - 0s 43ms/step - loss: 2.3778e-06 - categorical_accuracy: 1.0000 - val_loss: 3.1371e-08 - val_categorical_accuracy: 1.0000\n",
      "Epoch 197/200\n",
      "8/8 [==============================] - 0s 44ms/step - loss: 2.9029e-06 - categorical_accuracy: 1.0000 - val_loss: 2.9279e-08 - val_categorical_accuracy: 1.0000\n",
      "Epoch 198/200\n",
      "8/8 [==============================] - 0s 47ms/step - loss: 2.4210e-06 - categorical_accuracy: 1.0000 - val_loss: 2.7188e-08 - val_categorical_accuracy: 1.0000\n",
      "Epoch 199/200\n",
      "8/8 [==============================] - 0s 42ms/step - loss: 5.7888e-06 - categorical_accuracy: 1.0000 - val_loss: 2.5097e-08 - val_categorical_accuracy: 1.0000\n",
      "Epoch 200/200\n",
      "8/8 [==============================] - 0s 41ms/step - loss: 4.9757e-06 - categorical_accuracy: 1.0000 - val_loss: 2.5097e-08 - val_categorical_accuracy: 1.0000\n"
     ]
    },
    {
     "data": {
      "text/plain": "<tensorflow.python.keras.callbacks.History at 0x1d9ffe92340>"
     },
     "execution_count": 47,
     "metadata": {},
     "output_type": "execute_result"
    }
   ]
  },
  {
   "cell_type": "code",
   "metadata": {
    "colab": {
     "base_uri": "https://localhost:8080/"
    },
    "id": "B5GnFtZrgfhO",
    "outputId": "90136d34-f94a-4b9b-ab2c-d39e1754de58"
   },
   "source": [
    "model.summary()"
   ],
   "execution_count": 48,
   "outputs": [
    {
     "name": "stdout",
     "output_type": "stream",
     "text": [
      "Model: \"sequential_1\"\n",
      "_________________________________________________________________\n",
      "Layer (type)                 Output Shape              Param #   \n",
      "=================================================================\n",
      "lstm_3 (LSTM)                (None, 30, 64)            48896     \n",
      "_________________________________________________________________\n",
      "lstm_4 (LSTM)                (None, 30, 128)           98816     \n",
      "_________________________________________________________________\n",
      "lstm_5 (LSTM)                (None, 64)                49408     \n",
      "_________________________________________________________________\n",
      "dense_3 (Dense)              (None, 64)                4160      \n",
      "_________________________________________________________________\n",
      "dense_4 (Dense)              (None, 32)                2080      \n",
      "_________________________________________________________________\n",
      "dense_5 (Dense)              (None, 3)                 99        \n",
      "=================================================================\n",
      "Total params: 203,459\n",
      "Trainable params: 203,459\n",
      "Non-trainable params: 0\n",
      "_________________________________________________________________\n"
     ]
    }
   ]
  },
  {
   "cell_type": "code",
   "execution_count": 49,
   "outputs": [
    {
     "name": "stdout",
     "output_type": "stream",
     "text": [
      "Evaluate on test data\n",
      "15/15 [==============================] - 0s 4ms/step - loss: 0.0000e+00 - categorical_accuracy: 1.0000\n",
      "test loss, test acc: [0.0, 1.0]\n",
      "Generate predictions for 30 samples\n",
      "predictions shape: (15, 3)\n"
     ]
    }
   ],
   "source": [
    "# Evaluate the model on the test data using `evaluate`\n",
    "print(\"Evaluate on test data\")\n",
    "results = model.evaluate(X_test, y_test, batch_size=1)\n",
    "print(\"test loss, test acc:\", results)\n",
    "\n",
    "# Generate predictions (probabilities -- the output of the last layer)\n",
    "# on new data using `predict`\n",
    "print(\"Generate predictions for 30 samples\")\n",
    "predictions = model.predict(X_test)\n",
    "print(\"predictions shape:\", predictions.shape)"
   ],
   "metadata": {
    "collapsed": false,
    "pycharm": {
     "name": "#%%\n"
    }
   }
  },
  {
   "cell_type": "code",
   "metadata": {
    "id": "DH7aA5nxi2mf",
    "pycharm": {
     "name": "#%%\n"
    }
   },
   "source": [
    "model.save('C://Users//JanBinkowski//Desktop//SignLanguageRecognition//Weights//action.h5')"
   ],
   "execution_count": 50,
   "outputs": []
  }
 ]
}